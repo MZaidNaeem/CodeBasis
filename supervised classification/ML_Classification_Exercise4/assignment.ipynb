{
 "cells": [
  {
   "cell_type": "markdown",
   "id": "9c03b46f-c555-4cf3-9437-83742df60430",
   "metadata": {},
   "source": [
    "### Titanic Survival Prediction\n",
    "\n",
    "You are a data scientist / AI engineer working on a binary classification problem to predict the survival of passengers from the Titanic crash. You have been provided with a dataset named **`\"titanic.csv\"`** which includes various features of passengers to predict whether they survived or not. The dataset comprises the following columns:\n",
    "\n",
    "- `passenger_id:` The unique identifier for each passenger.\n",
    "- `name:` The name of the passenger.\n",
    "- `p_class:` The passenger class (1 = 1st class, 2 = 2nd class, 3 = 3rd class).\n",
    "- `sex:` The gender of the passenger.\n",
    "- `age:` The age of the passenger.\n",
    "- `sib_sp:` The number of siblings or spouses the passenger had aboard the Titanic.\n",
    "- `parch:` The number of parents or children the passenger had aboard the Titanic.\n",
    "- `ticket:` The ticket number of the passenger.\n",
    "- `fare:` The fare the passenger paid for the ticket.\n",
    "- `cabin:` The cabin number where the passenger stayed.\n",
    "- `embarked:` The port where the passenger boarded the Titanic (C = Cherbourg; Q = Queenstown; S = Southampton).\n",
    "- `survived:` Whether the passenger survived (1) or not (0).\n",
    "\n",
    "Your task is to use this dataset to build and evaluate a `Gaussian Naive Bayes` model to predict whether a passenger survived based on their features. You will also evaluate the model's performance using precision, recall, and other classification metrics."
   ]
  },
  {
   "cell_type": "markdown",
   "id": "b69af457-1cf7-45b2-88b2-dd0a1e801c56",
   "metadata": {},
   "source": [
    "**Import Necessary Libraries**"
   ]
  },
  {
   "cell_type": "code",
   "execution_count": 70,
   "id": "c8160e63-5083-44f1-8d52-f21d4579733d",
   "metadata": {},
   "outputs": [],
   "source": [
    "# Import Necessary Libraries\n",
    "import warnings\n",
    "warnings.filterwarnings(\"ignore\")\n",
    "import pandas as pd\n",
    "import seaborn as sns\n",
    "import matplotlib.pyplot as plt\n",
    "from sklearn.preprocessing import StandardScaler\n",
    "from sklearn.model_selection import train_test_split\n",
    "from sklearn.naive_bayes import GaussianNB\n",
    "from sklearn.metrics import classification_report, confusion_matrix"
   ]
  },
  {
   "cell_type": "markdown",
   "id": "98288af3-582f-42d7-ae63-241aeff7809b",
   "metadata": {},
   "source": [
    "### Task 1: Data Preparation and Exploration\n",
    "\n",
    "1. Import the data from the `\"titanic.csv\"` file and store it in a variable df.\n",
    "2. Display the number of rows and columns in the dataset.\n",
    "3. Display the first few rows of the dataset to get an overview.\n",
    "4. Check for any missing values in the dataset.\n",
    "5. Drop columns that do not add much value `(passenger_id, name, sib_sp, parch, ticket, cabin, embarked)`.\n",
    "6. Visualize the distribution of the target variable `survived` and `p_class` using a bar chart.\n",
    "7. Visualize the distribution of `sex` using a pie chart (percentage).\n",
    "8. Visualize the distribution of `age` and `fare` using histograms."
   ]
  },
  {
   "cell_type": "code",
   "execution_count": 71,
   "id": "e3afaa1a-9c2e-440e-afe8-e42c81539af4",
   "metadata": {},
   "outputs": [
    {
     "data": {
      "text/html": [
       "<div>\n",
       "<style scoped>\n",
       "    .dataframe tbody tr th:only-of-type {\n",
       "        vertical-align: middle;\n",
       "    }\n",
       "\n",
       "    .dataframe tbody tr th {\n",
       "        vertical-align: top;\n",
       "    }\n",
       "\n",
       "    .dataframe thead th {\n",
       "        text-align: right;\n",
       "    }\n",
       "</style>\n",
       "<table border=\"1\" class=\"dataframe\">\n",
       "  <thead>\n",
       "    <tr style=\"text-align: right;\">\n",
       "      <th></th>\n",
       "      <th>passenger_id</th>\n",
       "      <th>name</th>\n",
       "      <th>p_class</th>\n",
       "      <th>sex</th>\n",
       "      <th>age</th>\n",
       "      <th>sib_sp</th>\n",
       "      <th>parch</th>\n",
       "      <th>ticket</th>\n",
       "      <th>fare</th>\n",
       "      <th>cabin</th>\n",
       "      <th>embarked</th>\n",
       "      <th>survived</th>\n",
       "    </tr>\n",
       "  </thead>\n",
       "  <tbody>\n",
       "    <tr>\n",
       "      <th>523</th>\n",
       "      <td>524</td>\n",
       "      <td>Hippach, Mrs. Louis Albert (Ida Sophia Fischer)</td>\n",
       "      <td>1</td>\n",
       "      <td>female</td>\n",
       "      <td>44.0</td>\n",
       "      <td>0</td>\n",
       "      <td>1</td>\n",
       "      <td>111361</td>\n",
       "      <td>57.9792</td>\n",
       "      <td>B18</td>\n",
       "      <td>C</td>\n",
       "      <td>1</td>\n",
       "    </tr>\n",
       "    <tr>\n",
       "      <th>509</th>\n",
       "      <td>510</td>\n",
       "      <td>Lang, Mr. Fang</td>\n",
       "      <td>3</td>\n",
       "      <td>male</td>\n",
       "      <td>26.0</td>\n",
       "      <td>0</td>\n",
       "      <td>0</td>\n",
       "      <td>1601</td>\n",
       "      <td>56.4958</td>\n",
       "      <td>NaN</td>\n",
       "      <td>S</td>\n",
       "      <td>1</td>\n",
       "    </tr>\n",
       "    <tr>\n",
       "      <th>880</th>\n",
       "      <td>881</td>\n",
       "      <td>Shelley, Mrs. William (Imanita Parrish Hall)</td>\n",
       "      <td>2</td>\n",
       "      <td>female</td>\n",
       "      <td>25.0</td>\n",
       "      <td>0</td>\n",
       "      <td>1</td>\n",
       "      <td>230433</td>\n",
       "      <td>26.0000</td>\n",
       "      <td>NaN</td>\n",
       "      <td>S</td>\n",
       "      <td>1</td>\n",
       "    </tr>\n",
       "    <tr>\n",
       "      <th>747</th>\n",
       "      <td>748</td>\n",
       "      <td>Sinkkonen, Miss. Anna</td>\n",
       "      <td>2</td>\n",
       "      <td>female</td>\n",
       "      <td>30.0</td>\n",
       "      <td>0</td>\n",
       "      <td>0</td>\n",
       "      <td>250648</td>\n",
       "      <td>13.0000</td>\n",
       "      <td>NaN</td>\n",
       "      <td>S</td>\n",
       "      <td>1</td>\n",
       "    </tr>\n",
       "    <tr>\n",
       "      <th>233</th>\n",
       "      <td>234</td>\n",
       "      <td>Asplund, Miss. Lillian Gertrud</td>\n",
       "      <td>3</td>\n",
       "      <td>female</td>\n",
       "      <td>5.0</td>\n",
       "      <td>4</td>\n",
       "      <td>2</td>\n",
       "      <td>347077</td>\n",
       "      <td>31.3875</td>\n",
       "      <td>NaN</td>\n",
       "      <td>S</td>\n",
       "      <td>1</td>\n",
       "    </tr>\n",
       "    <tr>\n",
       "      <th>626</th>\n",
       "      <td>627</td>\n",
       "      <td>Kirkland, Rev. Charles Leonard</td>\n",
       "      <td>2</td>\n",
       "      <td>male</td>\n",
       "      <td>57.0</td>\n",
       "      <td>0</td>\n",
       "      <td>0</td>\n",
       "      <td>219533</td>\n",
       "      <td>12.3500</td>\n",
       "      <td>NaN</td>\n",
       "      <td>Q</td>\n",
       "      <td>0</td>\n",
       "    </tr>\n",
       "    <tr>\n",
       "      <th>453</th>\n",
       "      <td>454</td>\n",
       "      <td>Goldenberg, Mr. Samuel L</td>\n",
       "      <td>1</td>\n",
       "      <td>male</td>\n",
       "      <td>49.0</td>\n",
       "      <td>1</td>\n",
       "      <td>0</td>\n",
       "      <td>17453</td>\n",
       "      <td>89.1042</td>\n",
       "      <td>C92</td>\n",
       "      <td>C</td>\n",
       "      <td>1</td>\n",
       "    </tr>\n",
       "    <tr>\n",
       "      <th>668</th>\n",
       "      <td>669</td>\n",
       "      <td>Cook, Mr. Jacob</td>\n",
       "      <td>3</td>\n",
       "      <td>male</td>\n",
       "      <td>43.0</td>\n",
       "      <td>0</td>\n",
       "      <td>0</td>\n",
       "      <td>A/5 3536</td>\n",
       "      <td>8.0500</td>\n",
       "      <td>NaN</td>\n",
       "      <td>S</td>\n",
       "      <td>0</td>\n",
       "    </tr>\n",
       "    <tr>\n",
       "      <th>88</th>\n",
       "      <td>89</td>\n",
       "      <td>Fortune, Miss. Mabel Helen</td>\n",
       "      <td>1</td>\n",
       "      <td>female</td>\n",
       "      <td>23.0</td>\n",
       "      <td>3</td>\n",
       "      <td>2</td>\n",
       "      <td>19950</td>\n",
       "      <td>263.0000</td>\n",
       "      <td>C23 C25 C27</td>\n",
       "      <td>S</td>\n",
       "      <td>1</td>\n",
       "    </tr>\n",
       "    <tr>\n",
       "      <th>46</th>\n",
       "      <td>47</td>\n",
       "      <td>Lennon, Mr. Denis</td>\n",
       "      <td>3</td>\n",
       "      <td>male</td>\n",
       "      <td>NaN</td>\n",
       "      <td>1</td>\n",
       "      <td>0</td>\n",
       "      <td>370371</td>\n",
       "      <td>15.5000</td>\n",
       "      <td>NaN</td>\n",
       "      <td>Q</td>\n",
       "      <td>0</td>\n",
       "    </tr>\n",
       "  </tbody>\n",
       "</table>\n",
       "</div>"
      ],
      "text/plain": [
       "     passenger_id                                             name  p_class  \\\n",
       "523           524  Hippach, Mrs. Louis Albert (Ida Sophia Fischer)        1   \n",
       "509           510                                   Lang, Mr. Fang        3   \n",
       "880           881     Shelley, Mrs. William (Imanita Parrish Hall)        2   \n",
       "747           748                            Sinkkonen, Miss. Anna        2   \n",
       "233           234                   Asplund, Miss. Lillian Gertrud        3   \n",
       "626           627                   Kirkland, Rev. Charles Leonard        2   \n",
       "453           454                         Goldenberg, Mr. Samuel L        1   \n",
       "668           669                                  Cook, Mr. Jacob        3   \n",
       "88             89                       Fortune, Miss. Mabel Helen        1   \n",
       "46             47                                Lennon, Mr. Denis        3   \n",
       "\n",
       "        sex   age  sib_sp  parch    ticket      fare        cabin embarked  \\\n",
       "523  female  44.0       0      1    111361   57.9792          B18        C   \n",
       "509    male  26.0       0      0      1601   56.4958          NaN        S   \n",
       "880  female  25.0       0      1    230433   26.0000          NaN        S   \n",
       "747  female  30.0       0      0    250648   13.0000          NaN        S   \n",
       "233  female   5.0       4      2    347077   31.3875          NaN        S   \n",
       "626    male  57.0       0      0    219533   12.3500          NaN        Q   \n",
       "453    male  49.0       1      0     17453   89.1042          C92        C   \n",
       "668    male  43.0       0      0  A/5 3536    8.0500          NaN        S   \n",
       "88   female  23.0       3      2     19950  263.0000  C23 C25 C27        S   \n",
       "46     male   NaN       1      0    370371   15.5000          NaN        Q   \n",
       "\n",
       "     survived  \n",
       "523         1  \n",
       "509         1  \n",
       "880         1  \n",
       "747         1  \n",
       "233         1  \n",
       "626         0  \n",
       "453         1  \n",
       "668         0  \n",
       "88          1  \n",
       "46          0  "
      ]
     },
     "execution_count": 71,
     "metadata": {},
     "output_type": "execute_result"
    }
   ],
   "source": [
    "# Step 1: Import the data from the \"titanic.csv\" file and store it in a variable df\n",
    "df=pd.read_csv(\"titanic.csv\")\n",
    "\n",
    "# Step 2: Display the number of rows and columns in the dataset\n",
    "\n",
    "df.shape\n",
    "# Step 3: Display the first few rows of the dataset to get an overview\n",
    "df.sample(10)"
   ]
  },
  {
   "cell_type": "code",
   "execution_count": 72,
   "id": "4123d602-5c2f-4524-9c89-1435807d0a22",
   "metadata": {},
   "outputs": [
    {
     "data": {
      "text/plain": [
       "passenger_id      0\n",
       "name              0\n",
       "p_class           0\n",
       "sex               0\n",
       "age             177\n",
       "sib_sp            0\n",
       "parch             0\n",
       "ticket            0\n",
       "fare              9\n",
       "cabin           687\n",
       "embarked          2\n",
       "survived          0\n",
       "dtype: int64"
      ]
     },
     "execution_count": 72,
     "metadata": {},
     "output_type": "execute_result"
    }
   ],
   "source": [
    "# Step 4: Check for any missing values in the dataset \n",
    "df.isna().sum()"
   ]
  },
  {
   "cell_type": "code",
   "execution_count": 73,
   "id": "50929a5c-a225-4b96-9bba-dbf75eb709f1",
   "metadata": {},
   "outputs": [],
   "source": [
    "# Step 5: Drop columns that do not add much value (passenger_id, name, sib_sp, parch, ticket, cabin, embarked)\n",
    "df=df.drop([\"passenger_id\", \"name\", \"sib_sp\", \"parch\", \"ticket\", 'cabin', 'embarked'],axis=1)"
   ]
  },
  {
   "cell_type": "code",
   "execution_count": 74,
   "id": "a51bf3e9-0cef-448f-b45e-0f39e95369be",
   "metadata": {},
   "outputs": [
    {
     "data": {
      "image/png": "[encoded data removed]",
      "text/plain": [
       "<Figure size 640x480 with 1 Axes>"
      ]
     },
     "metadata": {},
     "output_type": "display_data"
    },
    {
     "name": "stdout",
     "output_type": "stream",
     "text": [
      "****************************************************************************************************\n"
     ]
    },
    {
     "data": {
      "image/png": "[encoded data removed]",
      "text/plain": [
       "<Figure size 640x480 with 1 Axes>"
      ]
     },
     "metadata": {},
     "output_type": "display_data"
    }
   ],
   "source": [
    "# Step 6: Visualize the distribution\n",
    "\n",
    "#'survived'\n",
    "sns.countplot(x='survived', data=df)\n",
    "plt.title('Distribution of Survived')\n",
    "plt.xlabel('Survived')\n",
    "plt.ylabel('Count')\n",
    "plt.show()\n",
    "\n",
    "print('*' * 100)\n",
    "\n",
    "# 'p_class'\n",
    "sns.countplot(x='p_class', data=df)\n",
    "plt.title('Distribution of Passenger Class')\n",
    "plt.xlabel('Passenger Class')\n",
    "plt.ylabel('Count')\n",
    "plt.show()"
   ]
  },
  {
   "cell_type": "code",
   "execution_count": 75,
   "id": "ff252510-d2e8-4b22-a5c4-e08475c915b3",
   "metadata": {},
   "outputs": [
    {
     "data": {
      "image/png": "[encoded data removed]",
      "text/plain": [
       "<Figure size 600x600 with 1 Axes>"
      ]
     },
     "metadata": {},
     "output_type": "display_data"
    }
   ],
   "source": [
    "import matplotlib.pyplot as plt\n",
    "\n",
    "# Step 1: Count values in the 'sex' column\n",
    "sex_counts = df['sex'].value_counts()\n",
    "labels = sex_counts.index\n",
    "sizes = sex_counts.values\n",
    "explode = [0.05] * len(labels)  # small explode for each slice (optional)\n",
    "\n",
    "# Step 2: Plot pie chart\n",
    "plt.figure(figsize=(6, 6))\n",
    "plt.pie(sizes, labels=labels, explode=explode,\n",
    "        autopct='%1.1f%%', shadow=True, startangle=140)\n",
    "\n",
    "plt.title('Sex Distribution')\n",
    "plt.axis('equal')\n",
    "plt.show()\n"
   ]
  },
  {
   "cell_type": "code",
   "execution_count": 76,
   "id": "44b2d4f2-841a-430c-8072-ddb2d9a4d69e",
   "metadata": {},
   "outputs": [
    {
     "data": {
      "image/png": "[encoded data removed]",
      "text/plain": [
       "<Figure size 640x480 with 1 Axes>"
      ]
     },
     "metadata": {},
     "output_type": "display_data"
    }
   ],
   "source": [
    "# Step 8: Visualize the distribution of 'age' using a histogram\n",
    "sns.histplot(df['age'], bins=30, kde=False, color='green')\n",
    "\n",
    "# Add labels and title\n",
    "plt.title('Distribution of Scores')\n",
    "plt.xlabel('age')\n",
    "plt.ylabel('Frequency')\n",
    "\n",
    "plt.show()\n"
   ]
  },
  {
   "cell_type": "code",
   "execution_count": 77,
   "id": "488ce36d-53d6-4f63-94e1-8ef1e716b189",
   "metadata": {},
   "outputs": [
    {
     "data": {
      "image/png": "[encoded data removed]",
      "text/plain": [
       "<Figure size 640x480 with 1 Axes>"
      ]
     },
     "metadata": {},
     "output_type": "display_data"
    }
   ],
   "source": [
    "# Step 8: Visualize the distribution of 'age' using a histogram\n",
    "sns.histplot(df['fare'], bins=30, kde=False, color='red')\n",
    "\n",
    "# Add labels and title\n",
    "plt.title('Distribution of Scores')\n",
    "plt.xlabel('fare')\n",
    "plt.ylabel('Frequency')\n",
    "\n",
    "plt.show()\n"
   ]
  },
  {
   "cell_type": "markdown",
   "id": "65491a7f-98a5-481e-b380-23b517fb4c0f",
   "metadata": {},
   "source": [
    "### Task 2: Data Preprocessing\n",
    "\n",
    "1. Fill in missing values in the `age and fare` columns with their median values.\n",
    "2. Encode the sex column using one-hot encoding.\n",
    "3. Standardize the fare column using StandardScaler.\n",
    "4. Select the features `(p_class, sex, age, fare)` and the target variable `(survived)` for modeling.\n",
    "5. Split the dataset into training and testing sets with a test size of 30%."
   ]
  },
  {
   "cell_type": "code",
   "execution_count": 78,
   "id": "21fe2d7c-8174-4270-8d14-ac2e76adcd34",
   "metadata": {},
   "outputs": [],
   "source": [
    "# Step 1: Fill in missing values in the 'age' and 'fare' columns with their median values\n",
    "df.fillna({\n",
    "    'age':df['age'].median(),\n",
    "    'fare':df['fare'].median()\n",
    "},inplace=True)\n"
   ]
  },
  {
   "cell_type": "code",
   "execution_count": 79,
   "id": "a48f5a8c-f4f0-455a-8d69-0031924269d0",
   "metadata": {},
   "outputs": [
    {
     "data": {
      "text/html": [
       "<div>\n",
       "<style scoped>\n",
       "    .dataframe tbody tr th:only-of-type {\n",
       "        vertical-align: middle;\n",
       "    }\n",
       "\n",
       "    .dataframe tbody tr th {\n",
       "        vertical-align: top;\n",
       "    }\n",
       "\n",
       "    .dataframe thead th {\n",
       "        text-align: right;\n",
       "    }\n",
       "</style>\n",
       "<table border=\"1\" class=\"dataframe\">\n",
       "  <thead>\n",
       "    <tr style=\"text-align: right;\">\n",
       "      <th></th>\n",
       "      <th>p_class</th>\n",
       "      <th>age</th>\n",
       "      <th>fare</th>\n",
       "      <th>survived</th>\n",
       "      <th>sex_male</th>\n",
       "    </tr>\n",
       "  </thead>\n",
       "  <tbody>\n",
       "    <tr>\n",
       "      <th>0</th>\n",
       "      <td>3</td>\n",
       "      <td>22.0</td>\n",
       "      <td>7.2500</td>\n",
       "      <td>0</td>\n",
       "      <td>True</td>\n",
       "    </tr>\n",
       "    <tr>\n",
       "      <th>1</th>\n",
       "      <td>1</td>\n",
       "      <td>38.0</td>\n",
       "      <td>71.2833</td>\n",
       "      <td>1</td>\n",
       "      <td>False</td>\n",
       "    </tr>\n",
       "    <tr>\n",
       "      <th>2</th>\n",
       "      <td>3</td>\n",
       "      <td>26.0</td>\n",
       "      <td>14.4542</td>\n",
       "      <td>1</td>\n",
       "      <td>False</td>\n",
       "    </tr>\n",
       "    <tr>\n",
       "      <th>3</th>\n",
       "      <td>1</td>\n",
       "      <td>35.0</td>\n",
       "      <td>53.1000</td>\n",
       "      <td>1</td>\n",
       "      <td>False</td>\n",
       "    </tr>\n",
       "    <tr>\n",
       "      <th>4</th>\n",
       "      <td>3</td>\n",
       "      <td>35.0</td>\n",
       "      <td>8.0500</td>\n",
       "      <td>0</td>\n",
       "      <td>True</td>\n",
       "    </tr>\n",
       "    <tr>\n",
       "      <th>...</th>\n",
       "      <td>...</td>\n",
       "      <td>...</td>\n",
       "      <td>...</td>\n",
       "      <td>...</td>\n",
       "      <td>...</td>\n",
       "    </tr>\n",
       "    <tr>\n",
       "      <th>886</th>\n",
       "      <td>2</td>\n",
       "      <td>27.0</td>\n",
       "      <td>13.0000</td>\n",
       "      <td>0</td>\n",
       "      <td>True</td>\n",
       "    </tr>\n",
       "    <tr>\n",
       "      <th>887</th>\n",
       "      <td>1</td>\n",
       "      <td>19.0</td>\n",
       "      <td>30.0000</td>\n",
       "      <td>1</td>\n",
       "      <td>False</td>\n",
       "    </tr>\n",
       "    <tr>\n",
       "      <th>888</th>\n",
       "      <td>3</td>\n",
       "      <td>28.0</td>\n",
       "      <td>23.4500</td>\n",
       "      <td>0</td>\n",
       "      <td>False</td>\n",
       "    </tr>\n",
       "    <tr>\n",
       "      <th>889</th>\n",
       "      <td>1</td>\n",
       "      <td>26.0</td>\n",
       "      <td>30.0000</td>\n",
       "      <td>1</td>\n",
       "      <td>True</td>\n",
       "    </tr>\n",
       "    <tr>\n",
       "      <th>890</th>\n",
       "      <td>3</td>\n",
       "      <td>32.0</td>\n",
       "      <td>14.4542</td>\n",
       "      <td>0</td>\n",
       "      <td>True</td>\n",
       "    </tr>\n",
       "  </tbody>\n",
       "</table>\n",
       "<p>891 rows × 5 columns</p>\n",
       "</div>"
      ],
      "text/plain": [
       "     p_class   age     fare  survived  sex_male\n",
       "0          3  22.0   7.2500         0      True\n",
       "1          1  38.0  71.2833         1     False\n",
       "2          3  26.0  14.4542         1     False\n",
       "3          1  35.0  53.1000         1     False\n",
       "4          3  35.0   8.0500         0      True\n",
       "..       ...   ...      ...       ...       ...\n",
       "886        2  27.0  13.0000         0      True\n",
       "887        1  19.0  30.0000         1     False\n",
       "888        3  28.0  23.4500         0     False\n",
       "889        1  26.0  30.0000         1      True\n",
       "890        3  32.0  14.4542         0      True\n",
       "\n",
       "[891 rows x 5 columns]"
      ]
     },
     "execution_count": 79,
     "metadata": {},
     "output_type": "execute_result"
    }
   ],
   "source": [
    "# Step 2: Encode the 'sex' column using one-hot encoding\n",
    "df=pd.get_dummies(df,columns=['sex'],drop_first=True)\n",
    "df"
   ]
  },
  {
   "cell_type": "code",
   "execution_count": 80,
   "id": "ca8f6401-9194-4396-844c-f2bd98bfc30f",
   "metadata": {},
   "outputs": [
    {
     "name": "stdout",
     "output_type": "stream",
     "text": [
      "     p_class       age      fare  survived  sex_male\n",
      "0          3 -0.565736 -0.500819         0      True\n",
      "1          1  0.663861  0.788518         1     False\n",
      "2          3 -0.258337 -0.355760         1     False\n",
      "3          1  0.433312  0.422390         1     False\n",
      "4          3  0.433312 -0.484711         0      True\n",
      "..       ...       ...       ...       ...       ...\n",
      "886        2 -0.181487 -0.385041         0      True\n",
      "887        1 -0.796286 -0.042738         1     False\n",
      "888        3 -0.104637 -0.174625         0     False\n",
      "889        1 -0.258337 -0.042738         1      True\n",
      "890        3  0.202762 -0.355760         0      True\n",
      "\n",
      "[891 rows x 5 columns]\n"
     ]
    }
   ],
   "source": [
    "# Step 3: Standardize the 'fare' column using StandardScaler\n",
    "\n",
    "from sklearn.preprocessing import StandardScaler\n",
    "# Initialize the scaler\n",
    "scaler = StandardScaler()\n",
    "\n",
    "# Fit and transform the desired columns\n",
    "df[['age', 'fare']] = scaler.fit_transform(df[['age', 'fare']])\n",
    "\n",
    "print(df)\n"
   ]
  },
  {
   "cell_type": "code",
   "execution_count": 81,
   "id": "9776e74b-3d2c-40f7-b41b-35a6ac59933e",
   "metadata": {},
   "outputs": [],
   "source": [
    "# Step 4: Select the features and target variable for modeling\n",
    "# Step 4: Select the features and target variable for modeling\n",
    "features = ['p_class', 'sex_male', 'age', 'fare']\n",
    "X = df[features]\n",
    "y = df['survived']\n",
    "\n",
    "# Step 5: Split the dataset into training and testing sets with a test size of 30%\n",
    "X_train, X_test, y_train, y_test = train_test_split(X, y, test_size=0.3, random_state=42)\n",
    "\n",
    "\n"
   ]
  },
  {
   "cell_type": "markdown",
   "id": "b5fcca5a-13f3-4d47-a59f-d19465087c08",
   "metadata": {},
   "source": [
    "### Task 3: Model Training Using Gaussian Naive Bayes\n",
    "\n",
    "1. Initialize and train a `Gaussian Naive Bayes` model using the training data.\n",
    "2. Make predictions on the test set using the trained model.\n",
    "3. Evaluate the model using a classification report and print the report.\n",
    "4. Visualize the confusion matrix for the model."
   ]
  },
  {
   "cell_type": "code",
   "execution_count": 90,
   "id": "de744d68-1193-4939-a5a9-fdeac54a84a6",
   "metadata": {},
   "outputs": [],
   "source": [
    "# Step 1: Initialize and train a Gaussian Naive Bayes model using the training data\n",
    "gnb_model = GaussianNB()\n",
    "gnb_model.fit(X_train, y_train)\n",
    "\n",
    "# Step 2: Make predictions on the test set using the trained model\n",
    "y_pred = gnb_model.predict(X_test)"
   ]
  },
  {
   "cell_type": "code",
   "execution_count": 87,
   "id": "ff0c4579-8bff-4e90-adde-eda3e584c094",
   "metadata": {},
   "outputs": [
    {
     "name": "stdout",
     "output_type": "stream",
     "text": [
      "              precision    recall  f1-score   support\n",
      "\n",
      "           0       0.81      0.80      0.81       157\n",
      "           1       0.73      0.74      0.73       111\n",
      "\n",
      "    accuracy                           0.78       268\n",
      "   macro avg       0.77      0.77      0.77       268\n",
      "weighted avg       0.78      0.78      0.78       268\n",
      "\n"
     ]
    }
   ],
   "source": [
    "# Step 3: Evaluate the model using a classification report and print the report , confusion_matrix\n",
    "report =classification_report(y_test,y_pred)\n",
    "print(report)"
   ]
  },
  {
   "cell_type": "code",
   "execution_count": 91,
   "id": "e60a4df5-c6a9-475d-a1a7-a1af3384a378",
   "metadata": {},
   "outputs": [],
   "source": [
    "# Step 4: Visualize the confusion matrix for the model\n",
    "matrix=confusion_matrix(y_test,y_pred)"
   ]
  },
  {
   "cell_type": "code",
   "execution_count": 94,
   "id": "f5c545b5-22ae-4525-aa0a-e730ff33d2bd",
   "metadata": {},
   "outputs": [
    {
     "data": {
      "image/png": "[encoded data removed]",
      "text/plain": [
       "<Figure size 600x400 with 2 Axes>"
      ]
     },
     "metadata": {},
     "output_type": "display_data"
    }
   ],
   "source": [
    "\n",
    "cm = confusion_matrix(y_test, y_pred)\n",
    "\n",
    "# Step 3: Plot using seaborn\n",
    "plt.figure(figsize=(6, 4))\n",
    "sns.heatmap(cm, annot=True,xticklabels=['Not Survived', 'Survived'], yticklabels=['Not Survived', 'Survived'], fmt='d', cmap='Blues',)\n",
    "\n",
    "# Add labels and title\n",
    "plt.xlabel('Predicted')\n",
    "plt.ylabel('Actual')\n",
    "plt.title('Confusion Matrix')\n",
    "plt.show()\n"
   ]
  },
  {
   "cell_type": "code",
   "execution_count": null,
   "id": "c21561d4-8c18-4e06-907f-3349cd660a5c",
   "metadata": {},
   "outputs": [],
   "source": []
  }
 ],
 "metadata": {
  "kernelspec": {
   "display_name": "Python 3 (ipykernel)",
   "language": "python",
   "name": "python3"
  },
  "language_info": {
   "codemirror_mode": {
    "name": "ipython",
    "version": 3
   },
   "file_extension": ".py",
   "mimetype": "text/x-python",
   "name": "python",
   "nbconvert_exporter": "python",
   "pygments_lexer": "ipython3",
   "version": "3.13.2"
  }
 },
 "nbformat": 4,
 "nbformat_minor": 5
}
