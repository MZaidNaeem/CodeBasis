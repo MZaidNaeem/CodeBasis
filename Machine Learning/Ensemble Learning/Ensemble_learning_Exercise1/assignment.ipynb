{
 "cells": [
  {
   "cell_type": "markdown",
   "id": "baf2816d-9bb4-41f5-a0cc-28d21076897e",
   "metadata": {},
   "source": [
    "### Problem Statement\n",
    "\n",
    "You are a data scientist / AI engineer at a medical research firm. You have been provided with a dataset named **`\"cancer_data.csv\"`**, which includes medical and lifestyle information for 1500 patients. The dataset is designed to predict the presence of cancer based on various features. The dataset comprises the following columns:\n",
    "\n",
    "- `age:` Integer values representing the patient's age, ranging from 20 to 80.\n",
    "- `gender:` Binary values representing gender, where 0 indicates Male and 1 indicates Female.\n",
    "- `bmi:` Continuous values representing Body Mass Index, ranging from 15 to 40.\n",
    "- `smoking:` Binary values indicating smoking status, where 0 means No and 1 means Yes.\n",
    "- `genetic_risk:` Categorical values representing genetic risk levels for cancer, with 0 indicating Low, 1 indicating Medium, and 2 indicating High.\n",
    "- `physical_activity:` Continuous values representing the number of hours per week spent on physical activities, ranging from 0 to 10.\n",
    "- `alcohol_intake:` Continuous values representing the number of alcohol units consumed per week, ranging from 0 to 5.\n",
    "- `cancer_history:` Binary values indicating whether the patient has a personal history of cancer, where 0 means No and 1 means Yes.\n",
    "- `diagnosis:` Binary values indicating the cancer diagnosis status, where 0 indicates No Cancer and 1 indicates Cancer.\n",
    "\n",
    "  \n",
    "Your task is to use this dataset to build and compare the performance of Decision Tree and Random Forest models to predict the presence of cancer. Additionally, explore various parameters of the RandomForestClassifier to enhance model performance.\n",
    "\n",
    "**Dataset credits:** Rabie El Kharoua (https://www.kaggle.com/datasets/rabieelkharoua/cancer-prediction-dataset)"
   ]
  },
  {
   "cell_type": "markdown",
   "id": "15221f04-00ac-4e0b-8a89-305664501db4",
   "metadata": {},
   "source": [
    "**Import Necessary Libraries**"
   ]
  },
  {
   "cell_type": "code",
   "execution_count": 2,
   "id": "473a0b20-c224-48d3-b72d-0f1c680d2c08",
   "metadata": {},
   "outputs": [],
   "source": [
    "#import necessary libraries\n",
    "\n",
    "import pandas as pd\n",
    "from sklearn.model_selection import train_test_split\n",
    "from sklearn.tree import DecisionTreeClassifier\n",
    "from sklearn.ensemble import RandomForestClassifier\n",
    "from sklearn.metrics import classification_report"
   ]
  },
  {
   "cell_type": "markdown",
   "id": "a4b44afd-f118-4fd0-b028-4b25ae125514",
   "metadata": {},
   "source": [
    "### Task 1: Data Preparation and Exploration\n",
    "\n",
    "1. Import the data from the `\"cancer_data.csv\"` file and store it in a variable df.\n",
    "2. Display the number of rows and columns in the dataset.\n",
    "3. Display the first few rows of the dataset to get an overview.\n",
    "4. Check for any missing values in the dataset."
   ]
  },
  {
   "cell_type": "code",
   "execution_count": 5,
   "id": "4ea4c74b-e0e7-4b04-a0e8-969e95549598",
   "metadata": {},
   "outputs": [
    {
     "name": "stdout",
     "output_type": "stream",
     "text": [
      "(1500, 9)\n"
     ]
    },
    {
     "data": {
      "text/html": [
       "<div>\n",
       "<style scoped>\n",
       "    .dataframe tbody tr th:only-of-type {\n",
       "        vertical-align: middle;\n",
       "    }\n",
       "\n",
       "    .dataframe tbody tr th {\n",
       "        vertical-align: top;\n",
       "    }\n",
       "\n",
       "    .dataframe thead th {\n",
       "        text-align: right;\n",
       "    }\n",
       "</style>\n",
       "<table border=\"1\" class=\"dataframe\">\n",
       "  <thead>\n",
       "    <tr style=\"text-align: right;\">\n",
       "      <th></th>\n",
       "      <th>age</th>\n",
       "      <th>gender</th>\n",
       "      <th>bmi</th>\n",
       "      <th>smoking</th>\n",
       "      <th>genetic_risk</th>\n",
       "      <th>physical_activity</th>\n",
       "      <th>alcohol_intake</th>\n",
       "      <th>cancer_history</th>\n",
       "      <th>diagnosis</th>\n",
       "    </tr>\n",
       "  </thead>\n",
       "  <tbody>\n",
       "    <tr>\n",
       "      <th>1143</th>\n",
       "      <td>64</td>\n",
       "      <td>1</td>\n",
       "      <td>29.878292</td>\n",
       "      <td>1</td>\n",
       "      <td>0</td>\n",
       "      <td>4.864050</td>\n",
       "      <td>3.291419</td>\n",
       "      <td>0</td>\n",
       "      <td>1</td>\n",
       "    </tr>\n",
       "    <tr>\n",
       "      <th>839</th>\n",
       "      <td>38</td>\n",
       "      <td>1</td>\n",
       "      <td>30.026854</td>\n",
       "      <td>0</td>\n",
       "      <td>2</td>\n",
       "      <td>3.582190</td>\n",
       "      <td>1.666209</td>\n",
       "      <td>0</td>\n",
       "      <td>1</td>\n",
       "    </tr>\n",
       "    <tr>\n",
       "      <th>1364</th>\n",
       "      <td>60</td>\n",
       "      <td>0</td>\n",
       "      <td>33.233620</td>\n",
       "      <td>0</td>\n",
       "      <td>1</td>\n",
       "      <td>2.541473</td>\n",
       "      <td>4.362314</td>\n",
       "      <td>0</td>\n",
       "      <td>0</td>\n",
       "    </tr>\n",
       "    <tr>\n",
       "      <th>349</th>\n",
       "      <td>68</td>\n",
       "      <td>1</td>\n",
       "      <td>19.700618</td>\n",
       "      <td>1</td>\n",
       "      <td>0</td>\n",
       "      <td>3.295304</td>\n",
       "      <td>2.452272</td>\n",
       "      <td>0</td>\n",
       "      <td>0</td>\n",
       "    </tr>\n",
       "    <tr>\n",
       "      <th>997</th>\n",
       "      <td>42</td>\n",
       "      <td>1</td>\n",
       "      <td>27.190695</td>\n",
       "      <td>0</td>\n",
       "      <td>0</td>\n",
       "      <td>3.830588</td>\n",
       "      <td>2.568167</td>\n",
       "      <td>0</td>\n",
       "      <td>0</td>\n",
       "    </tr>\n",
       "    <tr>\n",
       "      <th>179</th>\n",
       "      <td>34</td>\n",
       "      <td>1</td>\n",
       "      <td>39.917421</td>\n",
       "      <td>0</td>\n",
       "      <td>1</td>\n",
       "      <td>9.859342</td>\n",
       "      <td>2.122863</td>\n",
       "      <td>1</td>\n",
       "      <td>1</td>\n",
       "    </tr>\n",
       "    <tr>\n",
       "      <th>1101</th>\n",
       "      <td>74</td>\n",
       "      <td>1</td>\n",
       "      <td>26.442490</td>\n",
       "      <td>1</td>\n",
       "      <td>0</td>\n",
       "      <td>6.178132</td>\n",
       "      <td>1.068683</td>\n",
       "      <td>0</td>\n",
       "      <td>1</td>\n",
       "    </tr>\n",
       "    <tr>\n",
       "      <th>48</th>\n",
       "      <td>74</td>\n",
       "      <td>0</td>\n",
       "      <td>21.854017</td>\n",
       "      <td>1</td>\n",
       "      <td>1</td>\n",
       "      <td>0.522791</td>\n",
       "      <td>1.047034</td>\n",
       "      <td>0</td>\n",
       "      <td>0</td>\n",
       "    </tr>\n",
       "    <tr>\n",
       "      <th>648</th>\n",
       "      <td>51</td>\n",
       "      <td>1</td>\n",
       "      <td>26.508957</td>\n",
       "      <td>1</td>\n",
       "      <td>1</td>\n",
       "      <td>6.618603</td>\n",
       "      <td>3.386520</td>\n",
       "      <td>0</td>\n",
       "      <td>1</td>\n",
       "    </tr>\n",
       "    <tr>\n",
       "      <th>414</th>\n",
       "      <td>74</td>\n",
       "      <td>0</td>\n",
       "      <td>35.995057</td>\n",
       "      <td>0</td>\n",
       "      <td>0</td>\n",
       "      <td>9.487905</td>\n",
       "      <td>0.644895</td>\n",
       "      <td>0</td>\n",
       "      <td>0</td>\n",
       "    </tr>\n",
       "  </tbody>\n",
       "</table>\n",
       "</div>"
      ],
      "text/plain": [
       "      age  gender        bmi  smoking  genetic_risk  physical_activity  \\\n",
       "1143   64       1  29.878292        1             0           4.864050   \n",
       "839    38       1  30.026854        0             2           3.582190   \n",
       "1364   60       0  33.233620        0             1           2.541473   \n",
       "349    68       1  19.700618        1             0           3.295304   \n",
       "997    42       1  27.190695        0             0           3.830588   \n",
       "179    34       1  39.917421        0             1           9.859342   \n",
       "1101   74       1  26.442490        1             0           6.178132   \n",
       "48     74       0  21.854017        1             1           0.522791   \n",
       "648    51       1  26.508957        1             1           6.618603   \n",
       "414    74       0  35.995057        0             0           9.487905   \n",
       "\n",
       "      alcohol_intake  cancer_history  diagnosis  \n",
       "1143        3.291419               0          1  \n",
       "839         1.666209               0          1  \n",
       "1364        4.362314               0          0  \n",
       "349         2.452272               0          0  \n",
       "997         2.568167               0          0  \n",
       "179         2.122863               1          1  \n",
       "1101        1.068683               0          1  \n",
       "48          1.047034               0          0  \n",
       "648         3.386520               0          1  \n",
       "414         0.644895               0          0  "
      ]
     },
     "execution_count": 5,
     "metadata": {},
     "output_type": "execute_result"
    }
   ],
   "source": [
    "# Step 1: Import the data from the \"cancer_data.csv\" file and store it in a variable 'df'\n",
    "\n",
    "df=pd.read_csv(\"cancer_data.csv\")\n",
    "# Step 2: Display the number of rows and columns in the dataset\n",
    "print(df.shape)\n",
    "\n",
    "# Step 3: Display the first few rows of the dataset to get an overview\n",
    "df.sample(10)"
   ]
  },
  {
   "cell_type": "code",
   "execution_count": 6,
   "id": "6d1bb675-d45d-458f-b2a7-9d67814a79d8",
   "metadata": {},
   "outputs": [
    {
     "data": {
      "text/plain": [
       "age                  0\n",
       "gender               0\n",
       "bmi                  0\n",
       "smoking              0\n",
       "genetic_risk         0\n",
       "physical_activity    0\n",
       "alcohol_intake       0\n",
       "cancer_history       0\n",
       "diagnosis            0\n",
       "dtype: int64"
      ]
     },
     "execution_count": 6,
     "metadata": {},
     "output_type": "execute_result"
    }
   ],
   "source": [
    "# Step 4: Check for any missing values in the dataset\n",
    "df.isna().sum()"
   ]
  },
  {
   "cell_type": "markdown",
   "id": "4bf8dd00-9ded-4221-879c-4134bdca63fa",
   "metadata": {},
   "source": [
    "### Task 2: Model Training Using Decision Tree Classifier\n",
    "\n",
    "1. Select the features `(age, gender, bmi, smoking, genetic_risk, physical_activity, alcohol_intake, cancer_history)` and the target variable `(diagnosis)` for modeling.\n",
    "2. Split the data into training and test sets with a test size of 25%.\n",
    "3. Initialize and train a Decision Tree Classifier model using the training data.\n",
    "4. Make predictions on the test set using the trained model.\n",
    "5. Evaluate the model using a classification report and print the report."
   ]
  },
  {
   "cell_type": "code",
   "execution_count": 9,
   "id": "c44dbd28-36b0-4b13-aeb0-8fe5adee203c",
   "metadata": {},
   "outputs": [],
   "source": [
    "# Step 1: Select the features and target variable for modeling\n",
    "X=df.drop(['diagnosis'],axis=1)\n",
    "y=df['diagnosis']\n",
    "# Step 2: Split the data into training and test sets with a test size of 25%\n",
    "x_train,x_test,y_train,y_test= train_test_split(X,y,test_size=0.20,random_state=2)"
   ]
  },
  {
   "cell_type": "code",
   "execution_count": 14,
   "id": "2d29c0a8-27bc-4619-9e95-eeff3175ca2c",
   "metadata": {},
   "outputs": [
    {
     "name": "stdout",
     "output_type": "stream",
     "text": [
      "              precision    recall  f1-score   support\n",
      "\n",
      "           0       0.93      0.86      0.89       197\n",
      "           1       0.77      0.87      0.82       103\n",
      "\n",
      "    accuracy                           0.87       300\n",
      "   macro avg       0.85      0.87      0.86       300\n",
      "weighted avg       0.87      0.87      0.87       300\n",
      "\n"
     ]
    }
   ],
   "source": [
    "# Step 3: Initialize and train a Decision Tree Classifier model using the training data\n",
    "\n",
    "model=DecisionTreeClassifier()\n",
    "# Step 4: Make predictions on the test set using the trained model\n",
    "model.fit(x_train,y_train)\n",
    "y_pred=model.predict(x_test)\n",
    "# Step 5: Evaluate the model using a classification report and print the report\n",
    "report=classification_report(y_test,y_pred)\n",
    "print(report)"
   ]
  },
  {
   "cell_type": "markdown",
   "id": "0438dba9-beb8-46fd-91be-a1ad366992d0",
   "metadata": {},
   "source": [
    "### Task 3: Model Training Using Random Forest Classifier\n",
    "\n",
    "1. Initialize and train a Random Forest Classifier model with 25 estimators using the training data.\n",
    "2. Make predictions on the test set using the trained model.\n",
    "3. Evaluate the model using a classification report and print the report."
   ]
  },
  {
   "cell_type": "code",
   "execution_count": 21,
   "id": "88a74d91-7389-4417-aa60-a2b2b07c2d38",
   "metadata": {},
   "outputs": [
    {
     "name": "stdout",
     "output_type": "stream",
     "text": [
      "              precision    recall  f1-score   support\n",
      "\n",
      "           0       0.93      0.94      0.93       197\n",
      "           1       0.89      0.85      0.87       103\n",
      "\n",
      "    accuracy                           0.91       300\n",
      "   macro avg       0.91      0.90      0.90       300\n",
      "weighted avg       0.91      0.91      0.91       300\n",
      "\n"
     ]
    }
   ],
   "source": [
    "# Step 1: Initialize and train a Random Forest Classifier model with 25 estimators using the training data\n",
    "\n",
    "model=RandomForestClassifier(n_estimators=100);\n",
    "\n",
    "# Step 2: Make predictions on the test set using the trained model\n",
    "model.fit(x_train,y_train)\n",
    "y_pred=model.predict(x_test)\n",
    "# Step 5: Evaluate the model using a classification report and print the report\n",
    "report=classification_report(y_test,y_pred)\n",
    "print(report)"
   ]
  },
  {
   "cell_type": "markdown",
   "id": "a1c566bb-c8db-4fc5-a038-7d243403c758",
   "metadata": {},
   "source": [
    "### Task 4: Exploring Various Parameters in Random Forest Classifier\n",
    "\n",
    "1. Train a Random Forest model with the following parameters:\n",
    "   - n_estimators = 50\n",
    "   - max_features = \"log2\"\n",
    "   - criterion = \"entropy\"\n",
    "   - bootstrap = False\n",
    "   - max_depth = 15\n",
    "   - min_samples_split = 5\n",
    "   - min_samples_leaf = 3\n",
    "\n",
    "Learn about these parameters here: [scikit-learn RandomForestClassifier Parameters](https://scikit-learn.org/stable/modules/generated/sklearn.ensemble.RandomForestClassifier.html)\r\n",
    "\n",
    "\n",
    "--------------------------------------------------------------------------------------------------------------------------------------------------------\n",
    "2. Evaluate the model using a classification report and print the report."
   ]
  },
  {
   "cell_type": "code",
   "execution_count": 51,
   "id": "0cd30d45-0ff1-4631-91f4-eb506e444e03",
   "metadata": {},
   "outputs": [
    {
     "name": "stdout",
     "output_type": "stream",
     "text": [
      "              precision    recall  f1-score   support\n",
      "\n",
      "           0       0.94      0.95      0.95       197\n",
      "           1       0.91      0.88      0.90       103\n",
      "\n",
      "    accuracy                           0.93       300\n",
      "   macro avg       0.93      0.92      0.92       300\n",
      "weighted avg       0.93      0.93      0.93       300\n",
      "\n"
     ]
    }
   ],
   "source": [
    "# Step 1: Initialize and train a Random Forest Classifier model with 25 estimators using the training data\n",
    "\n",
    "model=RandomForestClassifier(n_estimators = 50,max_features = \"log2\", criterion = \"gini\"\n",
    "   , bootstrap = False\n",
    "   , max_depth = 200\n",
    "   , min_samples_split = 5\n",
    "   , min_samples_leaf = 4);\n",
    "\n",
    "# Step 2: Make predictions on the test set using the trained model\n",
    "model.fit(x_train,y_train)\n",
    "y_pred=model.predict(x_test)\n",
    "# Step 5: Evaluate the model using a classification report and print the report\n",
    "report=classification_report(y_test,y_pred)\n",
    "print(report)"
   ]
  },
  {
   "cell_type": "code",
   "execution_count": null,
   "id": "88b33d27-884c-479e-ba09-2f856dd8c4fa",
   "metadata": {},
   "outputs": [],
   "source": []
  }
 ],
 "metadata": {
  "kernelspec": {
   "display_name": "Python 3 (ipykernel)",
   "language": "python",
   "name": "python3"
  },
  "language_info": {
   "codemirror_mode": {
    "name": "ipython",
    "version": 3
   },
   "file_extension": ".py",
   "mimetype": "text/x-python",
   "name": "python",
   "nbconvert_exporter": "python",
   "pygments_lexer": "ipython3",
   "version": "3.13.2"
  }
 },
 "nbformat": 4,
 "nbformat_minor": 5
}
