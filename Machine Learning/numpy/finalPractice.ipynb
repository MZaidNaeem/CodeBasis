{
 "cells": [
  {
   "cell_type": "code",
   "execution_count": 2,
   "id": "28407c87-9bc9-4e55-9853-f89a2ed064af",
   "metadata": {},
   "outputs": [],
   "source": [
    "import numpy as np"
   ]
  },
  {
   "cell_type": "code",
   "execution_count": 3,
   "id": "06145a2a-a208-4aaf-9246-79a8bd5cbbd9",
   "metadata": {},
   "outputs": [
    {
     "data": {
      "text/plain": [
       "array([1, 2, 3, 4, 5])"
      ]
     },
     "execution_count": 3,
     "metadata": {},
     "output_type": "execute_result"
    }
   ],
   "source": [
    "\n",
    "\n",
    "# Array Creation\n",
    "\n",
    "a=np.array([1,2,3,4,5])\n",
    "a\n"
   ]
  },
  {
   "cell_type": "code",
   "execution_count": 8,
   "id": "5c23c2d0-c76b-4772-8b95-6921ab4bdaad",
   "metadata": {},
   "outputs": [
    {
     "data": {
      "text/plain": [
       "array([[1., 1., 1.],\n",
       "       [1., 1., 1.]])"
      ]
     },
     "execution_count": 8,
     "metadata": {},
     "output_type": "execute_result"
    }
   ],
   "source": [
    "#custonm array creation\n",
    "a1=np.ones((2,3))\n",
    "a1"
   ]
  },
  {
   "cell_type": "code",
   "execution_count": 26,
   "id": "29e9a6f5-4638-449c-bcb9-52576c67b1fa",
   "metadata": {},
   "outputs": [
    {
     "data": {
      "text/plain": [
       "array([10, 11, 12, 13, 14, 15, 16, 17, 18, 19, 20, 21, 22, 23, 24, 25, 26,\n",
       "       27, 28, 29])"
      ]
     },
     "execution_count": 26,
     "metadata": {},
     "output_type": "execute_result"
    }
   ],
   "source": [
    "a2=np.arange(10,30)\n",
    "a2"
   ]
  },
  {
   "cell_type": "code",
   "execution_count": 38,
   "id": "85945ff7-c9aa-41cf-b170-436d63b41071",
   "metadata": {},
   "outputs": [
    {
     "data": {
      "text/plain": [
       "array([10.        ,  9.64285714,  9.28571429,  8.92857143,  8.57142857,\n",
       "        8.21428571,  7.85714286,  7.5       ,  7.14285714,  6.78571429,\n",
       "        6.42857143,  6.07142857,  5.71428571,  5.35714286,  5.        ])"
      ]
     },
     "execution_count": 38,
     "metadata": {},
     "output_type": "execute_result"
    }
   ],
   "source": [
    "a3=np.linspace(10,5,15)\n",
    "a3"
   ]
  },
  {
   "cell_type": "code",
   "execution_count": 44,
   "id": "db3d73ed-d155-4bd3-95cf-38b54e8a9704",
   "metadata": {},
   "outputs": [
    {
     "data": {
      "text/plain": [
       "3"
      ]
     },
     "execution_count": 44,
     "metadata": {},
     "output_type": "execute_result"
    }
   ],
   "source": [
    "a4=np.array([np.ones((2,3))])\n",
    "a4.ndim"
   ]
  },
  {
   "cell_type": "code",
   "execution_count": 58,
   "id": "f94519ff-0cf1-4709-8632-9bc7ef9113e9",
   "metadata": {},
   "outputs": [
    {
     "data": {
      "text/plain": [
       "dtype('int64')"
      ]
     },
     "execution_count": 58,
     "metadata": {},
     "output_type": "execute_result"
    }
   ],
   "source": [
    "# datatype \n",
    "a4.dtype"
   ]
  },
  {
   "cell_type": "code",
   "execution_count": 53,
   "id": "766db24c-3cfd-434a-b53e-2af3611fb0d9",
   "metadata": {},
   "outputs": [
    {
     "data": {
      "text/plain": [
       "dtype('int64')"
      ]
     },
     "execution_count": 53,
     "metadata": {},
     "output_type": "execute_result"
    }
   ],
   "source": [
    "a4=a4.astype(\"int\")\n",
    "a4.dtype"
   ]
  },
  {
   "cell_type": "code",
   "execution_count": 54,
   "id": "ff84bea1-781a-4bf8-9746-24be3bc62c4e",
   "metadata": {},
   "outputs": [
    {
     "data": {
      "text/plain": [
       "6"
      ]
     },
     "execution_count": 54,
     "metadata": {},
     "output_type": "execute_result"
    }
   ],
   "source": [
    "#array size\n",
    "a4.size"
   ]
  },
  {
   "cell_type": "code",
   "execution_count": 55,
   "id": "7f7ce90b-a210-44c4-8003-a94ad2f193fc",
   "metadata": {},
   "outputs": [
    {
     "data": {
      "text/plain": [
       "8"
      ]
     },
     "execution_count": 55,
     "metadata": {},
     "output_type": "execute_result"
    }
   ],
   "source": [
    "a4.itemsize"
   ]
  },
  {
   "cell_type": "code",
   "execution_count": 56,
   "id": "e8f2ddb4-c32d-47b3-aaf3-5fafdce806b6",
   "metadata": {},
   "outputs": [
    {
     "data": {
      "text/plain": [
       "(1, 2, 3)"
      ]
     },
     "execution_count": 56,
     "metadata": {},
     "output_type": "execute_result"
    }
   ],
   "source": [
    "#array shape\n",
    "a4.shape"
   ]
  },
  {
   "cell_type": "code",
   "execution_count": 57,
   "id": "86bdda3a-5aab-49d2-8575-7dec99be9c9d",
   "metadata": {},
   "outputs": [
    {
     "data": {
      "text/plain": [
       "array([[1, 1],\n",
       "       [1, 1],\n",
       "       [1, 1]])"
      ]
     },
     "execution_count": 57,
     "metadata": {},
     "output_type": "execute_result"
    }
   ],
   "source": [
    "a4=a4.reshape(-1-1,2)\n",
    "a4"
   ]
  },
  {
   "cell_type": "code",
   "execution_count": 66,
   "id": "be743cd4-1990-48a7-8656-d4efff789e52",
   "metadata": {},
   "outputs": [
    {
     "name": "stdout",
     "output_type": "stream",
     "text": [
      "1\n",
      "1\n",
      "1\n",
      "1\n",
      "1\n",
      "1\n"
     ]
    }
   ],
   "source": [
    "# iteration on the array\n",
    "for x in np.nditer(a4):\n",
    "    print(x)"
   ]
  },
  {
   "cell_type": "code",
   "execution_count": 67,
   "id": "be50c007-55d6-42c7-8bb0-a148acf2c8d2",
   "metadata": {},
   "outputs": [
    {
     "name": "stdout",
     "output_type": "stream",
     "text": [
      "(0, 0) 1\n",
      "(0, 1) 1\n",
      "(1, 0) 1\n",
      "(1, 1) 1\n",
      "(2, 0) 1\n",
      "(2, 1) 1\n"
     ]
    }
   ],
   "source": [
    "for index,x in np.ndenumerate(a4):\n",
    "    print(index,x)"
   ]
  },
  {
   "cell_type": "code",
   "execution_count": 88,
   "id": "61c26037-264d-4919-bfa3-3b7c15818002",
   "metadata": {},
   "outputs": [
    {
     "name": "stdout",
     "output_type": "stream",
     "text": [
      "[[ 0  1  2  3  4]\n",
      " [ 5  6  7  8  9]\n",
      " [10 11 12 13 14]\n",
      " [15 16 17 18 19]\n",
      " [20 21 22 23 24]\n",
      " [25 26 27 28 29]\n",
      " [30 31 32 33 34]\n",
      " [35 36 37 38 39]] [[40 41 42 43 44]\n",
      " [45 46 47 48 49]\n",
      " [50 51 52 53 54]\n",
      " [55 56 57 58 59]\n",
      " [60 61 62 63 64]\n",
      " [65 66 67 68 69]\n",
      " [70 71 72 73 74]\n",
      " [75 76 77 78 79]]\n"
     ]
    }
   ],
   "source": [
    "a5=np.arange(0,40)\n",
    "a6=np.arange(40,80)\n",
    "\n",
    "a5=a5.reshape(-1,5)\n",
    "a6=a6.reshape(-1,5)\n",
    "\n",
    "print(a5,a6)"
   ]
  },
  {
   "cell_type": "code",
   "execution_count": 89,
   "id": "6a478ba8-d56e-4ce6-9433-862f1b69b1a8",
   "metadata": {},
   "outputs": [
    {
     "data": {
      "text/plain": [
       "array([[ 0,  1,  2,  3,  4, 40, 41, 42, 43, 44],\n",
       "       [ 5,  6,  7,  8,  9, 45, 46, 47, 48, 49],\n",
       "       [10, 11, 12, 13, 14, 50, 51, 52, 53, 54],\n",
       "       [15, 16, 17, 18, 19, 55, 56, 57, 58, 59],\n",
       "       [20, 21, 22, 23, 24, 60, 61, 62, 63, 64],\n",
       "       [25, 26, 27, 28, 29, 65, 66, 67, 68, 69],\n",
       "       [30, 31, 32, 33, 34, 70, 71, 72, 73, 74],\n",
       "       [35, 36, 37, 38, 39, 75, 76, 77, 78, 79]])"
      ]
     },
     "execution_count": 89,
     "metadata": {},
     "output_type": "execute_result"
    }
   ],
   "source": [
    "#concating array\n",
    "a7=np.hstack((a5,a6))\n",
    "a7"
   ]
  },
  {
   "cell_type": "code",
   "execution_count": 86,
   "id": "88bf63da-e227-48b5-847f-7b44b900ae12",
   "metadata": {},
   "outputs": [
    {
     "data": {
      "text/plain": [
       "array([[40, 41, 42, 43, 44],\n",
       "       [45, 46, 47, 48, 49],\n",
       "       [50, 51, 52, 53, 54],\n",
       "       [55, 56, 57, 58, 59],\n",
       "       [60, 61, 62, 63, 64],\n",
       "       [65, 66, 67, 68, 69],\n",
       "       [70, 71, 72, 73, 74],\n",
       "       [75, 76, 77, 78, 79]])"
      ]
     },
     "execution_count": 86,
     "metadata": {},
     "output_type": "execute_result"
    }
   ],
   "source": [
    "a8=np.vstack((a5,a6))\n",
    "a8"
   ]
  },
  {
   "cell_type": "code",
   "execution_count": 95,
   "id": "2cd2d235-5303-4606-8150-938fcf02a3f0",
   "metadata": {},
   "outputs": [
    {
     "name": "stdout",
     "output_type": "stream",
     "text": [
      "[[ 0  1  2  3  4]\n",
      " [ 5  6  7  8  9]\n",
      " [10 11 12 13 14]\n",
      " [15 16 17 18 19]\n",
      " [20 21 22 23 24]\n",
      " [25 26 27 28 29]\n",
      " [30 31 32 33 34]\n",
      " [35 36 37 38 39]] [[40 41 42 43 44]\n",
      " [45 46 47 48 49]\n",
      " [50 51 52 53 54]\n",
      " [55 56 57 58 59]\n",
      " [60 61 62 63 64]\n",
      " [65 66 67 68 69]\n",
      " [70 71 72 73 74]\n",
      " [75 76 77 78 79]]\n"
     ]
    }
   ],
   "source": [
    "# spliting array\n",
    "a5,a6=np.hsplit(a7,2)\n",
    "print(a5,a6)"
   ]
  },
  {
   "cell_type": "code",
   "execution_count": 96,
   "id": "54c92d82-4edd-46ca-8217-0614a03d4306",
   "metadata": {},
   "outputs": [
    {
     "name": "stdout",
     "output_type": "stream",
     "text": [
      "[[ 0  1  2  3  4 40 41 42 43 44]\n",
      " [ 5  6  7  8  9 45 46 47 48 49]\n",
      " [10 11 12 13 14 50 51 52 53 54]\n",
      " [15 16 17 18 19 55 56 57 58 59]] [[20 21 22 23 24 60 61 62 63 64]\n",
      " [25 26 27 28 29 65 66 67 68 69]\n",
      " [30 31 32 33 34 70 71 72 73 74]\n",
      " [35 36 37 38 39 75 76 77 78 79]]\n"
     ]
    }
   ],
   "source": [
    "a5,a6=np.vsplit(a7,2)\n",
    "print(a5,a6)"
   ]
  },
  {
   "cell_type": "code",
   "execution_count": 98,
   "id": "9cf388e1-f7ef-4553-ab1e-db6e998d8877",
   "metadata": {},
   "outputs": [
    {
     "data": {
      "text/plain": [
       "array([[ 0,  1,  2,  3,  4, 40, 41, 42, 43, 44],\n",
       "       [ 5,  6,  7,  8,  9, 45, 46, 47, 48, 49],\n",
       "       [10, 11, 12, 13, 14, 50, 51, 52, 53, 54],\n",
       "       [15, 16, 17, 18, 19, 55, 56, 57, 58, 59]])"
      ]
     },
     "execution_count": 98,
     "metadata": {},
     "output_type": "execute_result"
    }
   ],
   "source": [
    "#array sorting\n",
    "s=np.sort(a5)\n",
    "s"
   ]
  },
  {
   "cell_type": "code",
   "execution_count": 109,
   "id": "1aa6a713-cb17-4e1e-a806-d8560f069351",
   "metadata": {},
   "outputs": [
    {
     "data": {
      "text/plain": [
       "array([40, 41, 42, 43, 44,  6,  7,  8,  9, 45, 46, 47, 48, 49, 10, 11, 12,\n",
       "       13, 14, 50, 51, 52, 53, 54, 15, 16, 17, 18, 19, 55, 56, 57, 58, 59])"
      ]
     },
     "execution_count": 109,
     "metadata": {},
     "output_type": "execute_result"
    }
   ],
   "source": [
    "# array filtering\n",
    "\n",
    "filtered=s[s>5]\n",
    "filtered"
   ]
  },
  {
   "cell_type": "code",
   "execution_count": null,
   "id": "3114c19b-22a1-4909-bcb0-6a5be6a55d64",
   "metadata": {},
   "outputs": [],
   "source": [
    "#math function on array\n",
    "s.sum(axis=0)\n"
   ]
  }
 ],
 "metadata": {
  "kernelspec": {
   "display_name": "Python 3 (ipykernel)",
   "language": "python",
   "name": "python3"
  },
  "language_info": {
   "codemirror_mode": {
    "name": "ipython",
    "version": 3
   },
   "file_extension": ".py",
   "mimetype": "text/x-python",
   "name": "python",
   "nbconvert_exporter": "python",
   "pygments_lexer": "ipython3",
   "version": "3.13.2"
  }
 },
 "nbformat": 4,
 "nbformat_minor": 5
}
