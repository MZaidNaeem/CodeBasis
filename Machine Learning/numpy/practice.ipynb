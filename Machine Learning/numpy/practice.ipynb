{
 "cells": [
  {
   "cell_type": "code",
   "execution_count": 41,
   "id": "21ff306b-b628-4d0c-99e9-4324ae8f164b",
   "metadata": {},
   "outputs": [
    {
     "name": "stdout",
     "output_type": "stream",
     "text": [
      "2 float64 15 84 (5, 3) 20.0 100.0 ['john Zadi' '20' '2024' 'john Zadi' '20' '2024' 'john Zadi' '20' '2024'\n",
      " 'john Zadi' '20' '2024' 'john Zadi' '20' '2024']\n",
      "[['john Zadi' '20' '2024']\n",
      " ['john Zadi' '20' '2024']\n",
      " ['john Zadi' '20' '2024']\n",
      " ['john Zadi' '20' '2024']\n",
      " ['john Zadi' '20' '2024']]\n"
     ]
    }
   ],
   "source": [
    "import numpy as np\n",
    "\n",
    "johnZadi=np.array([\n",
    "    [\"john Zadi\",20,\"2024\"],\n",
    "    [\"john Zadi\",20,\"2024\"],\n",
    "    [\"john Zadi\",20,\"2024\"],\n",
    "    [\"john Zadi\",20,\"2024\"],\n",
    "    [\"john Zadi\",20,\"2024\"]\n",
    "     \n",
    "])\n",
    "\n",
    "ndim=johnZadi.ndim;\n",
    "dtype=johnZadi[:,1].astype(float).dtype\n",
    "size=johnZadi.size\n",
    "itemSize=johnZadi.itemsize\n",
    "shape=johnZadi.shape\n",
    "min=johnZadi[:,1].astype(float).min()\n",
    "sum=(johnZadi[:,1].astype(float)).sum(axis=0)\n",
    "\n",
    "sqrt=np.sqrt(johnZadi[:,1].astype(float))\n",
    "sort=np.sort(johnZadi,axis=None)\n",
    "ravel=johnZadi.flatten()\n",
    "\n",
    "\n",
    "print(ndim,dtype,size,itemSize,shape,min,sum,ravel)\n",
    "print(johnZadi)"
   ]
  },
  {
   "cell_type": "code",
   "execution_count": null,
   "id": "dd11f56b-6861-4496-a462-9cde113d47b6",
   "metadata": {},
   "outputs": [],
   "source": []
  },
  {
   "cell_type": "code",
   "execution_count": null,
   "id": "0f90da31-48b2-4556-b702-9efcf923486a",
   "metadata": {},
   "outputs": [],
   "source": []
  }
 ],
 "metadata": {
  "kernelspec": {
   "display_name": "Python 3 (ipykernel)",
   "language": "python",
   "name": "python3"
  },
  "language_info": {
   "codemirror_mode": {
    "name": "ipython",
    "version": 3
   },
   "file_extension": ".py",
   "mimetype": "text/x-python",
   "name": "python",
   "nbconvert_exporter": "python",
   "pygments_lexer": "ipython3",
   "version": "3.13.2"
  }
 },
 "nbformat": 4,
 "nbformat_minor": 5
}
