{
 "cells": [
  {
   "cell_type": "code",
   "execution_count": 46,
   "id": "5612e981-492c-4d30-9161-9bc21a5c2b03",
   "metadata": {},
   "outputs": [
    {
     "name": "stdout",
     "output_type": "stream",
     "text": [
      "[[3 4 5]\n",
      " [5 1 9]\n",
      " [5 3 4]]\n"
     ]
    }
   ],
   "source": [
    "import numpy as np\n",
    "\n",
    "myarr=np.array([\n",
    "    \n",
    "    [1,2,3,4,5],\n",
    "    [6,2,5,1,9],\n",
    "    [6,2,5,3,4]\n",
    "    \n",
    "])\n",
    "\n",
    "print(myarr[:,2:])"
   ]
  },
  {
   "cell_type": "code",
   "execution_count": 94,
   "id": "6090abc7-1960-4059-929c-d272cd0596de",
   "metadata": {},
   "outputs": [
    {
     "name": "stdout",
     "output_type": "stream",
     "text": [
      "[['101' 'ali']\n",
      " ['102' 'abdul']\n",
      " ['103' 'samad']]\n",
      "[['104' '250.5' '2024']\n",
      " ['105' '200.3' '2024']\n",
      " ['106' '150.3' '2011']]\n",
      "[['2024' '2024' '2011']\n",
      " ['2024' '2024' '2011']]\n",
      "[['101' 'ali' '104' '250.5' '2024' '2024']\n",
      " ['102' 'abdul' '105' '200.3' '2024' '2024']\n",
      " ['103' 'samad' '106' '150.3' '2011' '2011']]\n"
     ]
    }
   ],
   "source": [
    "# Custumor id,name\n",
    "a=np.array([\n",
    "    [101,\"ali\"],\n",
    "     [102,\"abdul\"],\n",
    "     [103,\"samad\"]\n",
    "])\n",
    "\n",
    "# Custumor id,pushase amount , purchase Date\n",
    "\n",
    "b=np.array([\n",
    "    [104,250.50,\"2024\"],\n",
    "     [105,200.30,\"2024\"],\n",
    "     [106,150.30,\"2011\"]\n",
    "])\n",
    "\n",
    "mytemp=np.hstack((a,b))\n",
    "g,h,temp2=np.hsplit(b,3)\n",
    "d=np.hstack((mytemp,temp2))\n",
    "a1,a2,e=np.vsplit(d,3)\n",
    "\n",
    "\n",
    "\n",
    "\n",
    "print(a)\n",
    "print(b)\n",
    "print(c)\n",
    "print(d)\n"
   ]
  },
  {
   "cell_type": "code",
   "execution_count": 101,
   "id": "3698ab1d-6b8b-422e-9430-744d77aadcb9",
   "metadata": {},
   "outputs": [
    {
     "name": "stdout",
     "output_type": "stream",
     "text": [
      "[[False False False False  True]\n",
      " [ True False  True False  True]\n",
      " [ True False  True False False]]\n",
      "[5 6 5 9 6 5]\n"
     ]
    }
   ],
   "source": [
    "#condition based array\n",
    "arr=np.array([\n",
    "    \n",
    "    [1,2,3,4,5],\n",
    "    [6,2,5,1,9],\n",
    "    [6,2,5,3,4]\n",
    "    \n",
    "])\n",
    "\n",
    "condition=arr>4\n",
    "print(condition)\n",
    "\n",
    "print(arr[condition])\n"
   ]
  },
  {
   "cell_type": "code",
   "execution_count": 127,
   "id": "73c1e9ef-2fc9-4989-9a9a-82918fa01051",
   "metadata": {},
   "outputs": [
    {
     "name": "stdout",
     "output_type": "stream",
     "text": [
      "3\n",
      "[['101' 'mohan1' '250.5' '2024-09-01']]\n"
     ]
    }
   ],
   "source": [
    "values=np.array([10,12,4,15,8])\n",
    "index=np.argmax(values)\n",
    "print(index)\n",
    "\n",
    "transactions= np.array([\n",
    "    ['101','mohan1','250.5','2024-09-01'],\n",
    "    ['102','mohan2','33.5','2029-09-01'],\n",
    "    ['103','mohan3','2343.5','2026-09-01'],\n",
    "    ['104','mohan4','55.5','2024-09-01'],\n",
    "    ['105','mohan5','250.5','2022-09-01'],\n",
    "    \n",
    "])\n",
    "\n",
    "index=np.argmax(transactions[:,2].astype(float))\n",
    "HighestSalaryperson=transactions[index,:]\n",
    "\n",
    "index1=transactions[transactions[:,0] == \"101\"]\n",
    "print(index1)"
   ]
  },
  {
   "cell_type": "code",
   "execution_count": null,
   "id": "4141d943-ad9a-430f-bd9e-4aff35549c58",
   "metadata": {},
   "outputs": [],
   "source": []
  }
 ],
 "metadata": {
  "kernelspec": {
   "display_name": "Python 3 (ipykernel)",
   "language": "python",
   "name": "python3"
  },
  "language_info": {
   "codemirror_mode": {
    "name": "ipython",
    "version": 3
   },
   "file_extension": ".py",
   "mimetype": "text/x-python",
   "name": "python",
   "nbconvert_exporter": "python",
   "pygments_lexer": "ipython3",
   "version": "3.13.2"
  }
 },
 "nbformat": 4,
 "nbformat_minor": 5
}
