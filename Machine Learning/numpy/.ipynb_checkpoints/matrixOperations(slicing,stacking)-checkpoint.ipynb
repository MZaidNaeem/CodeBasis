{
 "cells": [
  {
   "cell_type": "code",
   "execution_count": 46,
   "id": "5612e981-492c-4d30-9161-9bc21a5c2b03",
   "metadata": {},
   "outputs": [
    {
     "name": "stdout",
     "output_type": "stream",
     "text": [
      "[[3 4 5]\n",
      " [5 1 9]\n",
      " [5 3 4]]\n"
     ]
    }
   ],
   "source": [
    "import numpy as np\n",
    "\n",
    "myarr=np.array([\n",
    "    \n",
    "    [1,2,3,4,5],\n",
    "    [6,2,5,1,9],\n",
    "    [6,2,5,3,4]\n",
    "    \n",
    "])\n",
    "\n",
    "print(myarr[:,2:])"
   ]
  },
  {
   "cell_type": "code",
   "execution_count": 60,
   "id": "6090abc7-1960-4059-929c-d272cd0596de",
   "metadata": {},
   "outputs": [
    {
     "name": "stdout",
     "output_type": "stream",
     "text": [
      "['2024' '2024' '2011']\n"
     ]
    }
   ],
   "source": [
    "# Custumor id,name\n",
    "a=np.array([\n",
    "    [101,\"ali\"],\n",
    "     [102,\"abdul\"],\n",
    "     [103,\"samad\"]\n",
    "])\n",
    "\n",
    "# Custumor id,pushase amount , purchase Date\n",
    "\n",
    "b=np.array([\n",
    "    [104,250.50,\"2024\"],\n",
    "     [105,200.30,\"2024\"],\n",
    "     [106,150.30,\"2011\"]\n",
    "])\n",
    "\n",
    "np.hstack((a,b))\n",
    "\n",
    "temp1=b[0:,2]\n",
    "temp2=b[0:,-1]\n",
    "c=vstack[(temp1,temp2)]\n",
    "\n",
    "print(c)"
   ]
  },
  {
   "cell_type": "code",
   "execution_count": null,
   "id": "3698ab1d-6b8b-422e-9430-744d77aadcb9",
   "metadata": {},
   "outputs": [],
   "source": []
  }
 ],
 "metadata": {
  "kernelspec": {
   "display_name": "Python 3 (ipykernel)",
   "language": "python",
   "name": "python3"
  },
  "language_info": {
   "codemirror_mode": {
    "name": "ipython",
    "version": 3
   },
   "file_extension": ".py",
   "mimetype": "text/x-python",
   "name": "python",
   "nbconvert_exporter": "python",
   "pygments_lexer": "ipython3",
   "version": "3.13.2"
  }
 },
 "nbformat": 4,
 "nbformat_minor": 5
}
