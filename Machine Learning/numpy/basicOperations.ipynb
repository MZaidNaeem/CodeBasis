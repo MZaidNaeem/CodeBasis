{
 "cells": [
  {
   "cell_type": "code",
   "execution_count": 6,
   "id": "f7d66420-dbaf-4521-ba5c-a6e063cbadf5",
   "metadata": {},
   "outputs": [
    {
     "data": {
      "text/plain": [
       "array([[1, 2, 3],\n",
       "       [5, 6, 9]])"
      ]
     },
     "execution_count": 6,
     "metadata": {},
     "output_type": "execute_result"
    }
   ],
   "source": [
    "import numpy as np\n",
    "myarr=np.array([[1,2,3],[5,6,9]])\n",
    "myarr"
   ]
  },
  {
   "cell_type": "code",
   "execution_count": 10,
   "id": "cf798a40-f4be-4dc4-b959-95b7013ba349",
   "metadata": {},
   "outputs": [
    {
     "data": {
      "text/plain": [
       "2"
      ]
     },
     "execution_count": 10,
     "metadata": {},
     "output_type": "execute_result"
    }
   ],
   "source": [
    "myarr=np.array([[1,2,3],[5,6,9]])\n",
    "myarr.ndim"
   ]
  },
  {
   "cell_type": "code",
   "execution_count": 17,
   "id": "bf3aa18a-e2b6-4d67-a38f-7b021fe4007a",
   "metadata": {},
   "outputs": [
    {
     "data": {
      "text/plain": [
       "dtype('float64')"
      ]
     },
     "execution_count": 17,
     "metadata": {},
     "output_type": "execute_result"
    }
   ],
   "source": [
    "myarr=np.array([[1,2.3,3],[5,6,9]])\n",
    "myarr.dtype"
   ]
  },
  {
   "cell_type": "code",
   "execution_count": 23,
   "id": "2eb08f87-b485-4922-bd0b-6720114625c8",
   "metadata": {},
   "outputs": [
    {
     "data": {
      "text/plain": [
       "array([[1. , 2.3, 3. ],\n",
       "       [5. , 6. , 9. ]])"
      ]
     },
     "execution_count": 23,
     "metadata": {},
     "output_type": "execute_result"
    }
   ],
   "source": [
    "myarr=np.array([[1,2.3,3],[5,6,9]],dtype=np.float64)\n",
    "myarr"
   ]
  },
  {
   "cell_type": "code",
   "execution_count": 24,
   "id": "897d8904-ac18-46cc-bc71-cebbbe2d5163",
   "metadata": {},
   "outputs": [
    {
     "data": {
      "text/plain": [
       "6"
      ]
     },
     "execution_count": 24,
     "metadata": {},
     "output_type": "execute_result"
    }
   ],
   "source": [
    "myarr=np.array([[1,2.3,3],[5,6,9]])\n",
    "myarr.size\n"
   ]
  },
  {
   "cell_type": "code",
   "execution_count": 25,
   "id": "c431ef8a-ac0f-4fb9-a967-ee1631aba062",
   "metadata": {},
   "outputs": [
    {
     "data": {
      "text/plain": [
       "8"
      ]
     },
     "execution_count": 25,
     "metadata": {},
     "output_type": "execute_result"
    }
   ],
   "source": [
    "myarr.itemsize"
   ]
  },
  {
   "cell_type": "code",
   "execution_count": 28,
   "id": "83e89e24-3288-4c9f-b95e-5f55de848d37",
   "metadata": {},
   "outputs": [
    {
     "data": {
      "text/plain": [
       "array([[1. , 2.3, 3. ],\n",
       "       [5. , 6. , 9. ]])"
      ]
     },
     "execution_count": 28,
     "metadata": {},
     "output_type": "execute_result"
    }
   ],
   "source": [
    "\n",
    "myarr=np.array([[1,2.3,3],[5,6,9]])\n",
    "np.sort(myarr)"
   ]
  },
  {
   "cell_type": "code",
   "execution_count": 30,
   "id": "8c59a37b-b452-43f3-96ed-c910b5872b1c",
   "metadata": {},
   "outputs": [
    {
     "data": {
      "text/plain": [
       "array([[1. , 2.3],\n",
       "       [3. , 5. ],\n",
       "       [6. , 9. ]])"
      ]
     },
     "execution_count": 30,
     "metadata": {},
     "output_type": "execute_result"
    }
   ],
   "source": [
    "myarr.reshape(3,2)"
   ]
  },
  {
   "cell_type": "code",
   "execution_count": 31,
   "id": "c6488074-98d2-439c-a3de-60f0b04dcf4e",
   "metadata": {},
   "outputs": [
    {
     "data": {
      "text/plain": [
       "(2, 3)"
      ]
     },
     "execution_count": 31,
     "metadata": {},
     "output_type": "execute_result"
    }
   ],
   "source": [
    "myarr.shape"
   ]
  },
  {
   "cell_type": "code",
   "execution_count": null,
   "id": "286af997-8152-4713-bd79-e2c94003da54",
   "metadata": {},
   "outputs": [
    {
     "data": {
      "text/plain": [
       "array([ 6. ,  8.3, 12. ])"
      ]
     },
     "execution_count": 36,
     "metadata": {},
     "output_type": "execute_result"
    }
   ],
   "source": [
    "sum=myarr.sum(axis=0)\n",
    "sum"
   ]
  },
  {
   "cell_type": "code",
   "execution_count": null,
   "id": "be71c58d-9158-4dd7-9344-e0f105133957",
   "metadata": {},
   "outputs": [],
   "source": []
  }
 ],
 "metadata": {
  "kernelspec": {
   "display_name": "Python 3 (ipykernel)",
   "language": "python",
   "name": "python3"
  },
  "language_info": {
   "codemirror_mode": {
    "name": "ipython",
    "version": 3
   },
   "file_extension": ".py",
   "mimetype": "text/x-python",
   "name": "python",
   "nbconvert_exporter": "python",
   "pygments_lexer": "ipython3",
   "version": "3.13.2"
  }
 },
 "nbformat": 4,
 "nbformat_minor": 5
}
