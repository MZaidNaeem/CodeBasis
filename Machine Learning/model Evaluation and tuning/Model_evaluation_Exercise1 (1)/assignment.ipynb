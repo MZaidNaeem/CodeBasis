{
 "cells": [
  {
   "cell_type": "markdown",
   "id": "a49f2a2b-8df5-44eb-8902-0ce84d5ec99f",
   "metadata": {},
   "source": [
    "### Problem Statement\n",
    "\n",
    "You are a data scientist / AI engineer working on a classification problem to predict the likelihood of heart failure events based on clinical records. You have been provided with a dataset named **`\"heart_failure_clinical_records.csv\"`** which includes various clinical parameters of patients. The dataset comprises the following columns:\n",
    "\n",
    "- age: Age of the patient (years)\n",
    "- anaemia: Decrease of red blood cells or hemoglobin (boolean)\n",
    "- creatinine_phosphokinase: Level of the CPK enzyme in the blood (mcg/L)\n",
    "- diabetes: If the patient has diabetes (boolean)\n",
    "- ejection_fraction: Percentage of blood leaving the heart at each contraction (percentage)\n",
    "- high_blood_pressure: If the patient has hypertension (boolean)\n",
    "- platelets: Platelets in the blood (kiloplatelets/mL)\n",
    "- serum_creatinine: Level of serum creatinine in the blood (mg/dL)\n",
    "- serum_sodium: Level of serum sodium in the blood (mEq/L)\n",
    "- sex: Sex of the patient (binary, 1 for male, 0 for female)\n",
    "- smoking: If the patient smokes or not (boolean)\n",
    "- time: Follow-up period (days)\n",
    "- death_event: If the patient died during the follow-up period (boolean)\n",
    "\n",
    "Your task is to use this dataset to build and evaluate machine learning models to predict heart failure events. You will perform data preprocessing, exploratory data analysis, and model training using GaussianNB, SVM, and XGBoost. Additionally, you will use ROC curves to analyze model performance and make cost-benefit decisions.\n",
    "\n",
    "**Dataset credits:** Heart Failure Clinical Records. (2020). UCI Machine Learning Repository. https://doi.org/10.24432/C5Z89R.\n",
    "\r\n"
   ]
  },
  {
   "cell_type": "markdown",
   "id": "05230157-293d-4a4b-8835-62734f8a6d1b",
   "metadata": {},
   "source": [
    "**Import Necessary Libraries**"
   ]
  },
  {
   "cell_type": "code",
   "execution_count": 1,
   "id": "bfa8f7c1-6124-4bb5-b9a2-e96ee927ffba",
   "metadata": {},
   "outputs": [],
   "source": [
    "# Import Necessary Libraries\n",
    "\n",
    "import warnings\n",
    "warnings.filterwarnings(\"ignore\")\n",
    "import numpy as np\n",
    "import pandas as pd\n",
    "import matplotlib.pyplot as plt\n",
    "from sklearn.model_selection import train_test_split\n",
    "from sklearn.preprocessing import StandardScaler\n",
    "from sklearn.naive_bayes import GaussianNB\n",
    "from sklearn.svm import SVC\n",
    "from sklearn.tree import DecisionTreeClassifier\n",
    "from xgboost import XGBClassifier\n",
    "from sklearn.metrics import classification_report, roc_curve, auc, confusion_matrix"
   ]
  },
  {
   "cell_type": "markdown",
   "id": "d8929e9b-af7b-4eb9-bab3-16895951c005",
   "metadata": {},
   "source": [
    "### Task 1: Data Preprocessing and Exploratory Data Analysis\n",
    "\n",
    "1. Import the data from the `\"heart_failure_clinical_records.csv\"` file and store it in a DataFrame.\n",
    "2. Display the number of rows and columns in the dataset.\n",
    "3. Display the first few rows of the dataset to get an overview.\n",
    "4. Check for missing values and handle them appropriately.\n",
    "5. Perform basic statistical analysis and visualization to understand the distribution of each feature.\n",
    "    - Use `histograms` for continuous features (age, creatinine_phosphokinase, ejection_fraction, platelets, serum_creatinine, serum_sodium, time).\n",
    "    - Use `bar plots` for binary features (anaemia, diabetes, high_blood_pressure, sex, smoking)."
   ]
  },
  {
   "cell_type": "code",
   "execution_count": 2,
   "id": "87c7b092-de05-4f68-b01f-2e33eb30018c",
   "metadata": {},
   "outputs": [
    {
     "name": "stdout",
     "output_type": "stream",
     "text": [
      "Number of rows and columns: (5000, 13)\n",
      "First few rows of the dataset:\n"
     ]
    },
    {
     "data": {
      "text/html": [
       "<div>\n",
       "<style scoped>\n",
       "    .dataframe tbody tr th:only-of-type {\n",
       "        vertical-align: middle;\n",
       "    }\n",
       "\n",
       "    .dataframe tbody tr th {\n",
       "        vertical-align: top;\n",
       "    }\n",
       "\n",
       "    .dataframe thead th {\n",
       "        text-align: right;\n",
       "    }\n",
       "</style>\n",
       "<table border=\"1\" class=\"dataframe\">\n",
       "  <thead>\n",
       "    <tr style=\"text-align: right;\">\n",
       "      <th></th>\n",
       "      <th>age</th>\n",
       "      <th>anaemia</th>\n",
       "      <th>creatinine_phosphokinase</th>\n",
       "      <th>diabetes</th>\n",
       "      <th>ejection_fraction</th>\n",
       "      <th>high_blood_pressure</th>\n",
       "      <th>platelets</th>\n",
       "      <th>serum_creatinine</th>\n",
       "      <th>serum_sodium</th>\n",
       "      <th>sex</th>\n",
       "      <th>smoking</th>\n",
       "      <th>time</th>\n",
       "      <th>death_event</th>\n",
       "    </tr>\n",
       "  </thead>\n",
       "  <tbody>\n",
       "    <tr>\n",
       "      <th>0</th>\n",
       "      <td>55.0</td>\n",
       "      <td>0</td>\n",
       "      <td>748</td>\n",
       "      <td>0</td>\n",
       "      <td>45</td>\n",
       "      <td>0</td>\n",
       "      <td>263358.03</td>\n",
       "      <td>1.3</td>\n",
       "      <td>137</td>\n",
       "      <td>1</td>\n",
       "      <td>1</td>\n",
       "      <td>88</td>\n",
       "      <td>0</td>\n",
       "    </tr>\n",
       "    <tr>\n",
       "      <th>1</th>\n",
       "      <td>65.0</td>\n",
       "      <td>0</td>\n",
       "      <td>56</td>\n",
       "      <td>0</td>\n",
       "      <td>25</td>\n",
       "      <td>0</td>\n",
       "      <td>305000.00</td>\n",
       "      <td>5.0</td>\n",
       "      <td>130</td>\n",
       "      <td>1</td>\n",
       "      <td>0</td>\n",
       "      <td>207</td>\n",
       "      <td>0</td>\n",
       "    </tr>\n",
       "    <tr>\n",
       "      <th>2</th>\n",
       "      <td>45.0</td>\n",
       "      <td>0</td>\n",
       "      <td>582</td>\n",
       "      <td>1</td>\n",
       "      <td>38</td>\n",
       "      <td>0</td>\n",
       "      <td>319000.00</td>\n",
       "      <td>0.9</td>\n",
       "      <td>140</td>\n",
       "      <td>0</td>\n",
       "      <td>0</td>\n",
       "      <td>244</td>\n",
       "      <td>0</td>\n",
       "    </tr>\n",
       "    <tr>\n",
       "      <th>3</th>\n",
       "      <td>60.0</td>\n",
       "      <td>1</td>\n",
       "      <td>754</td>\n",
       "      <td>1</td>\n",
       "      <td>40</td>\n",
       "      <td>1</td>\n",
       "      <td>328000.00</td>\n",
       "      <td>1.2</td>\n",
       "      <td>126</td>\n",
       "      <td>1</td>\n",
       "      <td>0</td>\n",
       "      <td>90</td>\n",
       "      <td>0</td>\n",
       "    </tr>\n",
       "    <tr>\n",
       "      <th>4</th>\n",
       "      <td>95.0</td>\n",
       "      <td>1</td>\n",
       "      <td>582</td>\n",
       "      <td>0</td>\n",
       "      <td>30</td>\n",
       "      <td>0</td>\n",
       "      <td>461000.00</td>\n",
       "      <td>2.0</td>\n",
       "      <td>132</td>\n",
       "      <td>1</td>\n",
       "      <td>0</td>\n",
       "      <td>50</td>\n",
       "      <td>1</td>\n",
       "    </tr>\n",
       "  </tbody>\n",
       "</table>\n",
       "</div>"
      ],
      "text/plain": [
       "    age  anaemia  creatinine_phosphokinase  diabetes  ejection_fraction  \\\n",
       "0  55.0        0                       748         0                 45   \n",
       "1  65.0        0                        56         0                 25   \n",
       "2  45.0        0                       582         1                 38   \n",
       "3  60.0        1                       754         1                 40   \n",
       "4  95.0        1                       582         0                 30   \n",
       "\n",
       "   high_blood_pressure  platelets  serum_creatinine  serum_sodium  sex  \\\n",
       "0                    0  263358.03               1.3           137    1   \n",
       "1                    0  305000.00               5.0           130    1   \n",
       "2                    0  319000.00               0.9           140    0   \n",
       "3                    1  328000.00               1.2           126    1   \n",
       "4                    0  461000.00               2.0           132    1   \n",
       "\n",
       "   smoking  time  death_event  \n",
       "0        1    88            0  \n",
       "1        0   207            0  \n",
       "2        0   244            0  \n",
       "3        0    90            0  \n",
       "4        0    50            1  "
      ]
     },
     "execution_count": 2,
     "metadata": {},
     "output_type": "execute_result"
    }
   ],
   "source": [
    "\n",
    "# Import the data from the \"heart_failure_clinical_records.csv\" file and store it in a DataFrame.\n",
    "df = pd.read_csv(\"heart_failure_clinical_records.csv\")\n",
    "\n",
    "\n",
    "# Display the number of rows and columns in the dataset.\n",
    "print(\"Number of rows and columns:\", df.shape)\n",
    "\n",
    "\n",
    "# Display the first few rows of the dataset to get an overview\n",
    "print(\"First few rows of the dataset:\")\n",
    "df.head()"
   ]
  },
  {
   "cell_type": "code",
   "execution_count": 4,
   "id": "e73bdc47-14b0-49b8-811e-6a8af1424be5",
   "metadata": {},
   "outputs": [
    {
     "data": {
      "text/plain": [
       "age                         0\n",
       "anaemia                     0\n",
       "creatinine_phosphokinase    0\n",
       "diabetes                    0\n",
       "ejection_fraction           0\n",
       "high_blood_pressure         0\n",
       "platelets                   0\n",
       "serum_creatinine            0\n",
       "serum_sodium                0\n",
       "sex                         0\n",
       "smoking                     0\n",
       "time                        0\n",
       "death_event                 0\n",
       "dtype: int64"
      ]
     },
     "execution_count": 4,
     "metadata": {},
     "output_type": "execute_result"
    }
   ],
   "source": [
    "# Check for missing values and handle them appropriately.\n",
    "df.isna().sum()\n"
   ]
  },
  {
   "cell_type": "code",
   "execution_count": 7,
   "id": "5d78283a-fe62-4d2e-8434-4309ed566176",
   "metadata": {},
   "outputs": [
    {
     "data": {
      "image/png": "[encoded data removed]",
      "text/plain": [
       "<Figure size 1200x800 with 6 Axes>"
      ]
     },
     "metadata": {},
     "output_type": "display_data"
    }
   ],
   "source": [
    "import matplotlib.pyplot as plt\n",
    "\n",
    "# Sample data\n",
    "\n",
    "# Create histogram\n",
    "df[['creatinine_phosphokinase', 'ejection_fraction', 'platelets', 'serum_creatinine', 'serum_sodium', 'time']].hist(bins=7, figsize=(12, 8), color='skyblue', edgecolor='black')\n",
    "plt.show()\n"
   ]
  },
  {
   "cell_type": "code",
   "execution_count": 5,
   "id": "795c1827-d334-49a8-a7e3-79bd129ee1b0",
   "metadata": {},
   "outputs": [],
   "source": [
    "# Bar plots for binary features (anaemia, diabetes, high_blood_pressure, sex, smoking).\n"
   ]
  },
  {
   "cell_type": "markdown",
   "id": "ba8a45b0-e930-4a15-8717-b900ce49abde",
   "metadata": {},
   "source": [
    "### Task 2: Feature Transformation\n",
    "\n",
    "1. Split the dataset into training and test sets with a test size of 25%.\n",
    "2. Normalize continuous features (age, creatinine_phosphokinase, ejection_fraction, platelets, serum_creatinine, serum_sodium, time) using StandardScaler."
   ]
  },
  {
   "cell_type": "code",
   "execution_count": 11,
   "id": "12c61e9b-fd8b-49d4-999a-2be986c7d7f3",
   "metadata": {},
   "outputs": [],
   "source": [
    "# Split the dataset into training and test sets\n",
    "# Split the dataset into training and test sets\n",
    "\n",
    "X = df.drop(columns=['death_event'])\n",
    "y = df['death_event']\n",
    "X_train, X_test, y_train, y_test = train_test_split(X, y, test_size=0.25, random_state=42)\n"
   ]
  },
  {
   "cell_type": "code",
   "execution_count": 12,
   "id": "d36ccc08-7fe2-43a9-9cc7-f06feaac1dd3",
   "metadata": {},
   "outputs": [],
   "source": [
    "# Normalize continuous features using StandardScaler\n",
    "continuous_features = ['age', 'creatinine_phosphokinase', 'ejection_fraction', 'platelets', 'serum_creatinine', 'serum_sodium', 'time']\n",
    "scaler = StandardScaler()\n",
    "\n",
    "X_train[continuous_features] = scaler.fit_transform(X_train[continuous_features])\n",
    "X_test[continuous_features] = scaler.transform(X_test[continuous_features])\n"
   ]
  },
  {
   "cell_type": "markdown",
   "id": "e0ba2760-26e5-42ce-adca-9871a60d3b72",
   "metadata": {},
   "source": [
    "### Task 3: Model Training and Evaluation with GaussianNB\n",
    "\n",
    "1. Initialize and train a `GaussianNB` model using the training data.\n",
    "2. Print the classification report to evaluate the model's performance.\n",
    "3. Calculate the AUC for the GaussianNB model.\n",
    "4. Find the probability threshold associated with a desired recall of 85% and print the corresponding false positive rate."
   ]
  },
  {
   "cell_type": "code",
   "execution_count": 23,
   "id": "d03f4333-708c-464f-8307-970dc3265bda",
   "metadata": {},
   "outputs": [
    {
     "name": "stdout",
     "output_type": "stream",
     "text": [
      "              precision    recall  f1-score   support\n",
      "\n",
      "           0       0.81      0.93      0.87       881\n",
      "           1       0.75      0.47      0.58       369\n",
      "\n",
      "    accuracy                           0.80      1250\n",
      "   macro avg       0.78      0.70      0.72      1250\n",
      "weighted avg       0.79      0.80      0.78      1250\n",
      "\n"
     ]
    }
   ],
   "source": [
    "# Initialize and train a GaussianNB model\n",
    "model=GaussianNB()\n",
    "model.fit(X_train,y_train)\n",
    "p=model.predict(X_test)\n",
    "# Print the classification report\n",
    "c=classification_report(y_test,p)\n",
    "print(c)"
   ]
  },
  {
   "cell_type": "code",
   "execution_count": 43,
   "id": "402ba079-bed9-42da-8723-aad4550e7be1",
   "metadata": {},
   "outputs": [
    {
     "data": {
      "text/plain": [
       "np.float64(0.8790854196850709)"
      ]
     },
     "execution_count": 43,
     "metadata": {},
     "output_type": "execute_result"
    }
   ],
   "source": [
    "pb = model.predict_proba(X_test)[:,1]\n",
    "fpr,tpr,threshold=roc_curve(y_test,pb)\n",
    "roc_auc_nb = auc(fpr, tpr)\n",
    "roc_auc_nb"
   ]
  },
  {
   "cell_type": "code",
   "execution_count": 41,
   "id": "1b34b86a-2329-456d-b7b7-dc911965f05e",
   "metadata": {},
   "outputs": [
    {
     "data": {
      "text/plain": [
       "np.float64(0.09000947872507015)"
      ]
     },
     "execution_count": 41,
     "metadata": {},
     "output_type": "execute_result"
    }
   ],
   "source": [
    "# Find the probability threshold associated with 85% recall\n",
    "\n",
    "t=threshold[np.argmin(np.abs(tpr-0.85))]\n",
    "t\n"
   ]
  },
  {
   "cell_type": "markdown",
   "id": "16300276-feb4-4d87-a688-18e211ff08cc",
   "metadata": {},
   "source": [
    "### Task 4: Model Training and Evaluation with SVM\n",
    "\n",
    "1. Initialize and train an `SVM` model with a linear kernel using the training data.\n",
    "2. Print the classification report to evaluate the model's performance.\n",
    "3. Calculate the AUC for the SVM model.\n",
    "4. Find the probability threshold associated with a desired recall of 90% and print the corresponding false positive rate."
   ]
  },
  {
   "cell_type": "code",
   "execution_count": 53,
   "id": "da69166f-e546-4f0d-b129-8a33f924bfbc",
   "metadata": {},
   "outputs": [
    {
     "name": "stdout",
     "output_type": "stream",
     "text": [
      "              precision    recall  f1-score   support\n",
      "\n",
      "           0       0.90      0.89      0.89       881\n",
      "           1       0.74      0.76      0.75       369\n",
      "\n",
      "    accuracy                           0.85      1250\n",
      "   macro avg       0.82      0.82      0.82      1250\n",
      "weighted avg       0.85      0.85      0.85      1250\n",
      "\n"
     ]
    }
   ],
   "source": [
    "# Initialize and train a GaussianNB model\n",
    "model=SVC(kernel='linear' , probability=True)\n",
    "model.fit(X_train,y_train)\n",
    "p=model.predict(X_test)\n",
    "# Print the classification report\n",
    "c=classification_report(y_test,p)\n",
    "print(c)"
   ]
  },
  {
   "cell_type": "code",
   "execution_count": 54,
   "id": "dd82f44a-6a4c-41b0-9e7f-b625b1868ad1",
   "metadata": {},
   "outputs": [
    {
     "data": {
      "text/plain": [
       "np.float64(0.8932107822780838)"
      ]
     },
     "execution_count": 54,
     "metadata": {},
     "output_type": "execute_result"
    }
   ],
   "source": [
    "pb = model.predict_proba(X_test)[:,1]\n",
    "fpr,tpr,threshold=roc_curve(y_test,pb)\n",
    "roc_auc_nb = auc(fpr, tpr)\n",
    "roc_auc_nb"
   ]
  },
  {
   "cell_type": "code",
   "execution_count": 13,
   "id": "70098534-e32d-4c84-946b-d2761fcdd41a",
   "metadata": {},
   "outputs": [],
   "source": []
  },
  {
   "cell_type": "markdown",
   "id": "5489a5e0-bf7c-4b44-a764-cd9007b2dffe",
   "metadata": {},
   "source": [
    "### Task 5: Model Training and Evaluation with XGBoost\n",
    "\n",
    "1. Initialize and train an `XGBoost` model using the training data.\n",
    "2. Print the classification report to evaluate the model's performance.\n",
    "3. Calculate the AUC for the XGBoost model."
   ]
  },
  {
   "cell_type": "code",
   "execution_count": 58,
   "id": "b5842b7a-4f38-4fed-bb63-a5a0bd1bb06d",
   "metadata": {},
   "outputs": [
    {
     "name": "stdout",
     "output_type": "stream",
     "text": [
      "Classification Report for XGBoost:\n",
      "              precision    recall  f1-score   support\n",
      "\n",
      "           0       0.99      0.99      0.99       881\n",
      "           1       0.99      0.98      0.98       369\n",
      "\n",
      "    accuracy                           0.99      1250\n",
      "   macro avg       0.99      0.99      0.99      1250\n",
      "weighted avg       0.99      0.99      0.99      1250\n",
      "\n"
     ]
    }
   ],
   "source": [
    "\n",
    "# Initialize and train an XGBoost model\n",
    "model_xgb = XGBClassifier()\n",
    "model_xgb.fit(X_train, y_train)\n",
    "\n",
    "# Print the classification report\n",
    "y_pred_xgb = model_xgb.predict(X_test)\n",
    "print(\"Classification Report for XGBoost:\")\n",
    "print(classification_report(y_test, y_pred_xgb))\n",
    "\n"
   ]
  },
  {
   "cell_type": "code",
   "execution_count": 59,
   "id": "7c3f7ee7-1ec5-4afc-854c-e276605b533c",
   "metadata": {},
   "outputs": [
    {
     "name": "stdout",
     "output_type": "stream",
     "text": [
      "AUC for XGBoost: 0.999249436308211\n"
     ]
    }
   ],
   "source": [
    "# Calculate the AUC\n",
    "probabilities_xgb = model_xgb.predict_proba(X_test)[:, 1]\n",
    "fpr_xgb, tpr_xgb, thresholds_xgb = roc_curve(y_test, probabilities_xgb)\n",
    "roc_auc_xgb = auc(fpr_xgb, tpr_xgb)\n",
    "print(\"AUC for XGBoost:\", roc_auc_xgb)"
   ]
  },
  {
   "cell_type": "markdown",
   "id": "098a9f80-af3d-4354-8189-e95108a18cbd",
   "metadata": {},
   "source": [
    "### Task 6: Summary and Conclusion\n",
    "\n",
    "1. Plot the ROC curves for `GaussianNB, SVM, and XGBoost` models on the same chart.\n",
    "2. Summarize the results and compare the performance of the models."
   ]
  },
  {
   "cell_type": "code",
   "execution_count": 60,
   "id": "4d6af809-da02-414a-a473-29c5f2fcf627",
   "metadata": {},
   "outputs": [
    {
     "ename": "NameError",
     "evalue": "name 'fpr_nb' is not defined",
     "output_type": "error",
     "traceback": [
      "\u001b[31m---------------------------------------------------------------------------\u001b[39m",
      "\u001b[31mNameError\u001b[39m                                 Traceback (most recent call last)",
      "\u001b[36mCell\u001b[39m\u001b[36m \u001b[39m\u001b[32mIn[60]\u001b[39m\u001b[32m, line 3\u001b[39m\n\u001b[32m      1\u001b[39m \u001b[38;5;66;03m# Plot the ROC curves for all models\u001b[39;00m\n\u001b[32m      2\u001b[39m plt.figure()\n\u001b[32m----> \u001b[39m\u001b[32m3\u001b[39m plt.plot(\u001b[43mfpr_nb\u001b[49m, tpr_nb, color=\u001b[33m'\u001b[39m\u001b[33myellow\u001b[39m\u001b[33m'\u001b[39m, lw=\u001b[32m2\u001b[39m, label=\u001b[33m'\u001b[39m\u001b[33mROC - GNB (AUC = \u001b[39m\u001b[38;5;132;01m%0.2f\u001b[39;00m\u001b[33m)\u001b[39m\u001b[33m'\u001b[39m % roc_auc_nb)\n\u001b[32m      4\u001b[39m plt.plot(fpr_svm, tpr_svm, color=\u001b[33m'\u001b[39m\u001b[33mdarkorange\u001b[39m\u001b[33m'\u001b[39m, lw=\u001b[32m2\u001b[39m, label=\u001b[33m'\u001b[39m\u001b[33mROC - SVM (AUC = \u001b[39m\u001b[38;5;132;01m%0.2f\u001b[39;00m\u001b[33m)\u001b[39m\u001b[33m'\u001b[39m % roc_auc_svm)\n\u001b[32m      5\u001b[39m plt.plot(fpr_xgb, tpr_xgb, color=\u001b[33m'\u001b[39m\u001b[33mgreen\u001b[39m\u001b[33m'\u001b[39m, lw=\u001b[32m2\u001b[39m, label=\u001b[33m'\u001b[39m\u001b[33mROC - XGBoost (AUC = \u001b[39m\u001b[38;5;132;01m%0.2f\u001b[39;00m\u001b[33m)\u001b[39m\u001b[33m'\u001b[39m % roc_auc_xgb)\n",
      "\u001b[31mNameError\u001b[39m: name 'fpr_nb' is not defined"
     ]
    },
    {
     "data": {
      "text/plain": [
       "<Figure size 640x480 with 0 Axes>"
      ]
     },
     "metadata": {},
     "output_type": "display_data"
    }
   ],
   "source": []
  },
  {
   "cell_type": "markdown",
   "id": "75e7d0a7-5108-4f03-b39e-e6f845d9ad39",
   "metadata": {},
   "source": [
    "### Conclusion\n",
    "\n",
    "--------\n",
    "--------\n"
   ]
  }
 ],
 "metadata": {
  "kernelspec": {
   "display_name": "Python 3 (ipykernel)",
   "language": "python",
   "name": "python3"
  },
  "language_info": {
   "codemirror_mode": {
    "name": "ipython",
    "version": 3
   },
   "file_extension": ".py",
   "mimetype": "text/x-python",
   "name": "python",
   "nbconvert_exporter": "python",
   "pygments_lexer": "ipython3",
   "version": "3.13.2"
  }
 },
 "nbformat": 4,
 "nbformat_minor": 5
}
