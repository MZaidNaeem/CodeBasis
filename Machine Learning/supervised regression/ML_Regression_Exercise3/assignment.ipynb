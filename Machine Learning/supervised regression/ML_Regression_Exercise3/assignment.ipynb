{
 "cells": [
  {
   "cell_type": "markdown",
   "id": "3daddf39-5f58-4087-9ca8-cc082dcf60b5",
   "metadata": {},
   "source": [
    "### Problem Statement\n",
    "\n",
    "You are a data scientist / AI engineer at a meteorological consulting firm. You have been provided with a dataset named **`\"weather_data.csv\"`**, which includes detailed records of various weather conditions. The dataset comprises the following columns:\n",
    "\n",
    "- `hours_sunlight:` The total number of hours of sunlight received in a day.\n",
    "- `humidity_level:` The humidity level as a percentage.\n",
    "- `daily_temperature:` The temperature recorded at the end of the day in degrees Celsius.\n",
    "\n",
    "Your task is to use this dataset to build a linear regression model to predict the daily temperature based on the hours of sunlight and humidity level. You will need to split the data into training and test sets, train the model, and evaluate its performance using appropriate metrics."
   ]
  },
  {
   "cell_type": "markdown",
   "id": "74dbed49-2e78-4455-9c4b-be3c0fa27c0d",
   "metadata": {},
   "source": [
    "**Import Necessary Libraries**"
   ]
  },
  {
   "cell_type": "code",
   "execution_count": 4,
   "id": "fa54ae4f-db59-4cb0-8308-7672e345498c",
   "metadata": {},
   "outputs": [],
   "source": [
    "# Import necessary libraries\n",
    "# Import necessary libraries\n",
    "import pandas as pd\n",
    "from sklearn.linear_model import LinearRegression\n",
    "from sklearn.model_selection import train_test_split\n",
    "from sklearn.metrics import mean_squared_error, r2_score\n",
    "import warnings\n",
    "warnings.filterwarnings(\"ignore\")"
   ]
  },
  {
   "cell_type": "markdown",
   "id": "9182178d-a5df-4e1a-b2e8-51f1c3c6692e",
   "metadata": {},
   "source": [
    "### Task 1: Data Preparation and Exploration\n",
    "1. Import the data from the `\"weather_data.csv\"` file and store it in a variable df.\n",
    "2. Display the number of rows and columns in the dataset.\n",
    "3. Display the first few rows of the dataset to get an overview.\n",
    "4. Check for any missing values in the dataset."
   ]
  },
  {
   "cell_type": "code",
   "execution_count": 5,
   "id": "0f9fe1b4-ef69-49ee-98a7-5c908008fdd8",
   "metadata": {},
   "outputs": [
    {
     "name": "stdout",
     "output_type": "stream",
     "text": [
      "Number of rows and columns: (49, 3)\n",
      "First few rows of the dataset:\n"
     ]
    },
    {
     "data": {
      "text/html": [
       "<div>\n",
       "<style scoped>\n",
       "    .dataframe tbody tr th:only-of-type {\n",
       "        vertical-align: middle;\n",
       "    }\n",
       "\n",
       "    .dataframe tbody tr th {\n",
       "        vertical-align: top;\n",
       "    }\n",
       "\n",
       "    .dataframe thead th {\n",
       "        text-align: right;\n",
       "    }\n",
       "</style>\n",
       "<table border=\"1\" class=\"dataframe\">\n",
       "  <thead>\n",
       "    <tr style=\"text-align: right;\">\n",
       "      <th></th>\n",
       "      <th>hours_sunlight</th>\n",
       "      <th>humidity_level</th>\n",
       "      <th>daily_temperature</th>\n",
       "    </tr>\n",
       "  </thead>\n",
       "  <tbody>\n",
       "    <tr>\n",
       "      <th>0</th>\n",
       "      <td>10.5</td>\n",
       "      <td>65</td>\n",
       "      <td>22.3</td>\n",
       "    </tr>\n",
       "    <tr>\n",
       "      <th>1</th>\n",
       "      <td>9.2</td>\n",
       "      <td>70</td>\n",
       "      <td>21.0</td>\n",
       "    </tr>\n",
       "    <tr>\n",
       "      <th>2</th>\n",
       "      <td>7.8</td>\n",
       "      <td>80</td>\n",
       "      <td>18.5</td>\n",
       "    </tr>\n",
       "    <tr>\n",
       "      <th>3</th>\n",
       "      <td>6.4</td>\n",
       "      <td>90</td>\n",
       "      <td>17.2</td>\n",
       "    </tr>\n",
       "    <tr>\n",
       "      <th>4</th>\n",
       "      <td>8.1</td>\n",
       "      <td>75</td>\n",
       "      <td>19.4</td>\n",
       "    </tr>\n",
       "  </tbody>\n",
       "</table>\n",
       "</div>"
      ],
      "text/plain": [
       "   hours_sunlight  humidity_level  daily_temperature\n",
       "0            10.5              65               22.3\n",
       "1             9.2              70               21.0\n",
       "2             7.8              80               18.5\n",
       "3             6.4              90               17.2\n",
       "4             8.1              75               19.4"
      ]
     },
     "execution_count": 5,
     "metadata": {},
     "output_type": "execute_result"
    }
   ],
   "source": [
    "# Step 1: Import the data from the \"song_popularity.csv\" file and store it in a variable 'df'\n",
    "df = pd.read_csv(\"weather_data.csv\")\n",
    "\n",
    "# Step 2: Display the number of rows and columns in the dataset\n",
    "print(\"Number of rows and columns:\", df.shape)\n",
    "\n",
    "# Step 3: Display the first few rows of the dataset to get an overview\n",
    "print(\"First few rows of the dataset:\")\n",
    "df.head()"
   ]
  },
  {
   "cell_type": "code",
   "execution_count": 6,
   "id": "3a738f22-aa3f-441d-9353-a71adfcfc7e2",
   "metadata": {},
   "outputs": [
    {
     "data": {
      "text/plain": [
       "hours_sunlight       0\n",
       "humidity_level       0\n",
       "daily_temperature    0\n",
       "dtype: int64"
      ]
     },
     "execution_count": 6,
     "metadata": {},
     "output_type": "execute_result"
    }
   ],
   "source": [
    "# Step 4: Check for any missing values in the dataset\n",
    "df.isna().sum()"
   ]
  },
  {
   "cell_type": "markdown",
   "id": "ba609f4c-4236-4868-9d15-35e32d1fc17b",
   "metadata": {},
   "source": [
    "### Task 2: Train a Linear Regression Model\n",
    "\n",
    "1. Select the features (hours_sunlight, humidity_level) and the target variable (daily_temperature) for modeling.\n",
    "2. Split the data into training and test sets with a test size of 30%.\n",
    "3. Create a Linear Regression model and fit it using the training data.\n",
    "4. Print the model's coefficients and intercept."
   ]
  },
  {
   "cell_type": "code",
   "execution_count": 14,
   "id": "da547db5-4ff2-431f-af05-23abf3eae112",
   "metadata": {},
   "outputs": [
    {
     "data": {
      "text/plain": [
       "34    22.4\n",
       "40    22.6\n",
       "16    16.8\n",
       "48    19.1\n",
       "13    18.7\n",
       "23    21.2\n",
       "11    22.5\n",
       "9     17.0\n",
       "10    20.2\n",
       "39    20.5\n",
       "21    20.1\n",
       "7     21.7\n",
       "28    17.4\n",
       "35    17.3\n",
       "19    18.3\n",
       "6     16.0\n",
       "17    19.6\n",
       "37    18.6\n",
       "2     18.5\n",
       "42    18.9\n",
       "27    20.9\n",
       "15    24.3\n",
       "5     24.0\n",
       "41    16.6\n",
       "47    21.3\n",
       "24    18.8\n",
       "14    17.5\n",
       "18    20.8\n",
       "29    21.0\n",
       "45    17.0\n",
       "31    16.7\n",
       "8     19.0\n",
       "20    22.7\n",
       "43    21.1\n",
       "38    16.9\n",
       "36    21.5\n",
       "0     22.3\n",
       "44    23.9\n",
       "4     19.4\n",
       "Name: daily_temperature, dtype: float64"
      ]
     },
     "execution_count": 14,
     "metadata": {},
     "output_type": "execute_result"
    }
   ],
   "source": [
    "# Step 1: Select the features and target variable for modeling\n",
    "features = ['hours_sunlight', 'humidity_level']\n",
    "X = df[features]\n",
    "y = df['daily_temperature']\n",
    "\n",
    "\n",
    "# Step 2: Split the data into training and test sets with a test size of 30%\n",
    "x_train,x_test,y_train,y_test=train_test_split(X,y,test_size=0.2,random_state=22)\n"
   ]
  },
  {
   "cell_type": "code",
   "execution_count": 34,
   "id": "785427fa-4ba8-4eb0-9cdb-ca6e7134569d",
   "metadata": {},
   "outputs": [
    {
     "data": {
      "text/plain": [
       "(array([ 1.08878094, -0.05630413]), np.float64(15.039522468372418))"
      ]
     },
     "execution_count": 34,
     "metadata": {},
     "output_type": "execute_result"
    }
   ],
   "source": [
    "# Step 3: Create a Linear Regression model and fit it using the training data\n",
    "model=LinearRegression();\n",
    "model.fit(x_train,y_train)\n",
    "# Step 4: Print the model's coefficients and intercept\n",
    "model.coef_,model.intercept_"
   ]
  },
  {
   "cell_type": "markdown",
   "id": "5839c18f-57db-4f41-b2b6-8858653a661a",
   "metadata": {},
   "source": [
    "### Task 3: Model Evaluation\n",
    "\n",
    "1. Make predictions on the test set using the trained model.\n",
    "2. Evaluate the model using Mean Squared Error (MSE) and R-squared (R2) metrics.\n",
    "3. Print the MSE and R2 values.\n",
    "4. Display the first few actual vs. predicted values for the daily temperature."
   ]
  },
  {
   "cell_type": "code",
   "execution_count": 30,
   "id": "7d12750b-40dd-4e8b-8cdd-8228dd9b70b6",
   "metadata": {},
   "outputs": [],
   "source": [
    "# Step 1: Make predictions on the test set using the trained modely_pred = model.predict(X_test)\n",
    "y_predict=model.predict(x_test)\n",
    "# Step 2: Evaluate the model using Mean Squared Error (MSE) and R-squared (R2) metrics\n",
    "\n"
   ]
  },
  {
   "cell_type": "code",
   "execution_count": 32,
   "id": "2b945d00-97ea-4406-a526-79a0c03cef54",
   "metadata": {},
   "outputs": [
    {
     "name": "stdout",
     "output_type": "stream",
     "text": [
      "0.11189020412832011 0.9867359519028498\n",
      "[20.01877706 14.54130093 16.07678472 19.74471674 18.20923295 17.21813963\n",
      " 16.94034916 23.57783099 23.36380496 21.11501832] 32    19.7\n",
      "12    15.0\n",
      "25    16.2\n",
      "46    19.3\n",
      "33    18.4\n",
      "22    17.1\n",
      "3     17.2\n",
      "30    24.1\n",
      "26    23.8\n",
      "1     21.0\n",
      "Name: daily_temperature, dtype: float64\n"
     ]
    }
   ],
   "source": [
    "# Step 3: Print the MSE and R2 values\n",
    "m=mean_squared_error(y_test,y_predict)\n",
    "r=r2_score(y_test,y_predict)\n",
    "\n",
    "print(m,r)\n",
    "\n",
    "# Step 4: Display the first few actual vs. predicted values for the daily temperature\n",
    "\n",
    "\n",
    "p=model.predict(x_test);\n",
    "\n",
    "print(p,y_test)"
   ]
  },
  {
   "cell_type": "code",
   "execution_count": null,
   "id": "b5571782-db43-422a-8e95-061bf6fb0744",
   "metadata": {},
   "outputs": [],
   "source": []
  }
 ],
 "metadata": {
  "kernelspec": {
   "display_name": "Python 3 (ipykernel)",
   "language": "python",
   "name": "python3"
  },
  "language_info": {
   "codemirror_mode": {
    "name": "ipython",
    "version": 3
   },
   "file_extension": ".py",
   "mimetype": "text/x-python",
   "name": "python",
   "nbconvert_exporter": "python",
   "pygments_lexer": "ipython3",
   "version": "3.13.2"
  }
 },
 "nbformat": 4,
 "nbformat_minor": 5
}
