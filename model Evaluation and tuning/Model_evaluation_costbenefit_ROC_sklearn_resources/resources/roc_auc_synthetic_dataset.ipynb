{
 "cells": [
  {
   "cell_type": "markdown",
   "id": "455f7cd5",
   "metadata": {},
   "source": [
    "<h3 align=\"center\">Codebasics ML Course: ROC AUC Curve: Cost Benefit Analysis</h3>"
   ]
  },
  {
   "cell_type": "markdown",
   "id": "cbc3f98e",
   "metadata": {},
   "source": [
    "We will generate synthetic dataset using make_classification method"
   ]
  },
  {
   "cell_type": "code",
   "execution_count": 1,
   "id": "8f90e473",
   "metadata": {},
   "outputs": [],
   "source": [
    "import numpy as np\n",
    "import matplotlib.pyplot as plt\n",
    "from sklearn.datasets import make_classification\n",
    "from sklearn.linear_model import LogisticRegression\n",
    "from sklearn.model_selection import train_test_split\n",
    "\n",
    "X, y = make_classification(\n",
    "    n_features=10, \n",
    "    n_samples=1000, \n",
    "    n_informative=4,\n",
    "    n_redundant=6,\n",
    "    n_repeated=0,\n",
    "    n_classes=2, \n",
    "    random_state=42\n",
    ")\n",
    "\n",
    "# Split data into training and test sets\n",
    "X_train, X_test, y_train, y_test = train_test_split(X, y, test_size=0.25, random_state=42)"
   ]
  },
  {
   "cell_type": "markdown",
   "id": "68129724",
   "metadata": {},
   "source": [
    "### Train a Logistic Regression Model"
   ]
  },
  {
   "cell_type": "code",
   "execution_count": 2,
   "id": "41c16c68",
   "metadata": {},
   "outputs": [
    {
     "name": "stdout",
     "output_type": "stream",
     "text": [
      "              precision    recall  f1-score   support\n",
      "\n",
      "           0       0.66      0.69      0.67       122\n",
      "           1       0.69      0.66      0.68       128\n",
      "\n",
      "    accuracy                           0.68       250\n",
      "   macro avg       0.68      0.68      0.68       250\n",
      "weighted avg       0.68      0.68      0.68       250\n",
      "\n"
     ]
    }
   ],
   "source": [
    "from sklearn.metrics import classification_report\n",
    "\n",
    "model = LogisticRegression()\n",
    "model.fit(X_train, y_train)\n",
    "\n",
    "y_pred = model.predict(X_test)\n",
    "report = classification_report(y_test, y_pred)\n",
    "print(report)"
   ]
  },
  {
   "cell_type": "markdown",
   "id": "f171afc5",
   "metadata": {},
   "source": [
    "Let's assume above is the classification model for pneumonia detection. In this case, a recall of 0.66 for positive class is pretty bad because out of 100 psenumonia patients you are detecting the disease only in 66 and to remaining 34 patients you are saying you don't have a disease. We would like to increase this number even though it comes at the cost of increased false positives (i.e. telling a person that you have pneumonia, when in reality they don't).\n",
    "\n",
    "Reduce the probability threshold to 0.4 (from a default of 0.5) to capture more cases of pneumonia"
   ]
  },
  {
   "cell_type": "markdown",
   "id": "ad92f307",
   "metadata": {},
   "source": [
    "#### Change the thresold to see how precision, recall changes"
   ]
  },
  {
   "cell_type": "code",
   "execution_count": 21,
   "id": "35757653",
   "metadata": {
    "scrolled": true
   },
   "outputs": [
    {
     "name": "stdout",
     "output_type": "stream",
     "text": [
      "              precision    recall  f1-score   support\n",
      "\n",
      "           0       0.89      0.90      0.90       122\n",
      "           1       0.91      0.90      0.90       128\n",
      "\n",
      "    accuracy                           0.90       250\n",
      "   macro avg       0.90      0.90      0.90       250\n",
      "weighted avg       0.90      0.90      0.90       250\n",
      "\n"
     ]
    }
   ],
   "source": [
    "probabilities = model.predict_proba(X_test)[:,1]\n",
    "y_pred = (probabilities > 0.4).astype(int)\n",
    "report = classification_report(y_test, y_pred)\n",
    "print(report)"
   ]
  },
  {
   "cell_type": "markdown",
   "id": "da68e09f",
   "metadata": {},
   "source": [
    "As you can see here for class 1, the recall increased to 82%. Which is good but now by business manager is saying they need 90% recall. We will find probability thresold associated with 90% recall using ROC curve."
   ]
  },
  {
   "cell_type": "markdown",
   "id": "4ab57b24",
   "metadata": {},
   "source": [
    "### Calculate FPR, TPR"
   ]
  },
  {
   "cell_type": "code",
   "execution_count": 26,
   "id": "a2e0b866",
   "metadata": {},
   "outputs": [
    {
     "data": {
      "text/plain": [
       "(array([0.        , 0.        , 0.        , 0.00819672, 0.00819672,\n",
       "        0.00819672, 0.00819672, 0.01639344, 0.01639344, 0.02459016,\n",
       "        0.02459016, 0.04098361, 0.04098361, 0.04918033, 0.04918033,\n",
       "        0.05737705, 0.05737705, 0.06557377, 0.06557377, 0.09016393,\n",
       "        0.09016393, 0.09836066, 0.09836066, 0.10655738, 0.10655738,\n",
       "        0.1147541 , 0.1147541 , 0.12295082, 0.12295082, 0.14754098,\n",
       "        0.14754098, 0.28688525, 0.28688525, 0.30327869, 0.32786885,\n",
       "        0.45901639, 0.45901639, 0.47540984, 0.47540984, 0.67213115,\n",
       "        0.67213115, 0.69672131, 0.69672131, 0.82786885, 0.82786885,\n",
       "        0.86885246, 0.86885246, 1.        ]),\n",
       " array([0.       , 0.0078125, 0.09375  , 0.09375  , 0.203125 , 0.21875  ,\n",
       "        0.3984375, 0.3984375, 0.5859375, 0.5859375, 0.84375  , 0.84375  ,\n",
       "        0.859375 , 0.859375 , 0.875    , 0.875    , 0.8828125, 0.8828125,\n",
       "        0.890625 , 0.890625 , 0.8984375, 0.8984375, 0.90625  , 0.90625  ,\n",
       "        0.9140625, 0.9140625, 0.9296875, 0.9296875, 0.9375   , 0.9375   ,\n",
       "        0.9453125, 0.9453125, 0.953125 , 0.953125 , 0.953125 , 0.953125 ,\n",
       "        0.9609375, 0.9609375, 0.96875  , 0.96875  , 0.9765625, 0.9765625,\n",
       "        0.984375 , 0.984375 , 0.9921875, 0.9921875, 1.       , 1.       ]),\n",
       " array([          inf, 9.9996376e-01, 9.9989676e-01, 9.9989200e-01,\n",
       "        9.9972039e-01, 9.9969590e-01, 9.9914026e-01, 9.9912268e-01,\n",
       "        9.9627942e-01, 9.9599034e-01, 8.8219410e-01, 8.1847334e-01,\n",
       "        7.5780237e-01, 7.3391354e-01, 6.5624756e-01, 5.6988949e-01,\n",
       "        5.1964450e-01, 5.0797230e-01, 5.0496507e-01, 4.3035427e-01,\n",
       "        4.1397113e-01, 4.0368617e-01, 3.8223976e-01, 3.7134561e-01,\n",
       "        3.0599597e-01, 2.9862872e-01, 2.5381610e-01, 2.4721034e-01,\n",
       "        2.2574013e-01, 1.9269830e-01, 1.4681056e-01, 2.3266586e-02,\n",
       "        1.9486049e-02, 1.8823145e-02, 1.8034302e-02, 5.7706935e-03,\n",
       "        4.8607378e-03, 4.4850814e-03, 4.4030673e-03, 1.4620041e-03,\n",
       "        1.4036936e-03, 1.2304537e-03, 1.1759335e-03, 6.5738981e-04,\n",
       "        6.3195138e-04, 5.1880663e-04, 5.0558039e-04, 1.6894440e-04],\n",
       "       dtype=float32))"
      ]
     },
     "execution_count": 26,
     "metadata": {},
     "output_type": "execute_result"
    }
   ],
   "source": [
    "from sklearn.metrics import roc_curve\n",
    "\n",
    "fpr, tpr, thresholds = roc_curve(y_test, probabilities)\n",
    "\n",
    "\n",
    "fpr,tpr,thresholds"
   ]
  },
  {
   "cell_type": "code",
   "execution_count": 5,
   "id": "4b3f9dfe",
   "metadata": {},
   "outputs": [
    {
     "data": {
      "text/plain": [
       "(np.float64(0.90625),\n",
       " np.float64(0.26349585272229664),\n",
       " np.float64(0.7049180327868853))"
      ]
     },
     "execution_count": 5,
     "metadata": {},
     "output_type": "execute_result"
    }
   ],
   "source": [
    "desired_recall = 0.9\n",
    "\n",
    "closest_index = np.argmin(abs(tpr-desired_recall))\n",
    "tpr[closest_index], thresholds[closest_index], fpr[closest_index]"
   ]
  },
  {
   "cell_type": "markdown",
   "id": "7db78259",
   "metadata": {},
   "source": [
    "What this is saying is you need to configure your probability threshold to be 0.26 for a desired_recall value. Also you will have 0.7 false positive rate which is pretty high. Do not worry because later we will try a better model (XGBoost)"
   ]
  },
  {
   "cell_type": "markdown",
   "id": "5750b7f7",
   "metadata": {},
   "source": [
    "### Calculate AUC"
   ]
  },
  {
   "cell_type": "code",
   "execution_count": 6,
   "id": "1b14e8f3",
   "metadata": {},
   "outputs": [
    {
     "data": {
      "text/plain": [
       "np.float64(0.764856557377049)"
      ]
     },
     "execution_count": 6,
     "metadata": {},
     "output_type": "execute_result"
    }
   ],
   "source": [
    "from sklearn.metrics import auc\n",
    "\n",
    "area = auc(fpr, tpr)\n",
    "area"
   ]
  },
  {
   "cell_type": "markdown",
   "id": "2a7135ca",
   "metadata": {},
   "source": [
    "### Plot ROC Curve"
   ]
  },
  {
   "cell_type": "code",
   "execution_count": 7,
   "id": "5c190bca",
   "metadata": {},
   "outputs": [
    {
     "data": {
      "image/png": "[encoded data removed]",
      "text/plain": [
       "<Figure size 640x480 with 1 Axes>"
      ]
     },
     "metadata": {},
     "output_type": "display_data"
    }
   ],
   "source": [
    "plt.figure()\n",
    "plt.plot(fpr, tpr, color='darkorange', lw=2, label='ROC curve (area = %0.2f)' % area)\n",
    "plt.plot([0, 1], [0, 1], color='navy', lw=2, linestyle='--')\n",
    "plt.xlim([0.0, 1.0])\n",
    "plt.ylim([0.0, 1.05])\n",
    "plt.xlabel('False Positive Rate')\n",
    "plt.ylabel('True Positive Rate')\n",
    "plt.title('Receiver Operating Characteristic')\n",
    "plt.legend(loc=\"lower right\")\n",
    "plt.show()"
   ]
  },
  {
   "cell_type": "markdown",
   "id": "80d13941",
   "metadata": {},
   "source": [
    "### Now Train XGBoost Model"
   ]
  },
  {
   "cell_type": "code",
   "execution_count": 8,
   "id": "ff9f64ad",
   "metadata": {
    "scrolled": true
   },
   "outputs": [
    {
     "name": "stdout",
     "output_type": "stream",
     "text": [
      "              precision    recall  f1-score   support\n",
      "\n",
      "           0       0.89      0.93      0.91       122\n",
      "           1       0.93      0.89      0.91       128\n",
      "\n",
      "    accuracy                           0.91       250\n",
      "   macro avg       0.91      0.91      0.91       250\n",
      "weighted avg       0.91      0.91      0.91       250\n",
      "\n"
     ]
    }
   ],
   "source": [
    "from xgboost import XGBClassifier\n",
    "from sklearn.metrics import classification_report\n",
    "\n",
    "model = XGBClassifier()\n",
    "model.fit(X_train, y_train)\n",
    "\n",
    "y_pred = model.predict(X_test)\n",
    "report = classification_report(y_test, y_pred)\n",
    "print(report)"
   ]
  },
  {
   "cell_type": "markdown",
   "id": "598055a9",
   "metadata": {},
   "source": [
    "Out of the box, it gives us 89% recall which is pretty good but now my business manager becomes greedy and asks for 92% recall."
   ]
  },
  {
   "cell_type": "code",
   "execution_count": 9,
   "id": "8baa9d24",
   "metadata": {},
   "outputs": [
    {
     "data": {
      "text/plain": [
       "(array([0.        , 0.        , 0.        , 0.00819672, 0.00819672]),\n",
       " array([0.       , 0.0078125, 0.09375  , 0.09375  , 0.203125 ]),\n",
       " array([       inf, 0.99996376, 0.99989676, 0.999892  , 0.9997204 ],\n",
       "       dtype=float32))"
      ]
     },
     "execution_count": 9,
     "metadata": {},
     "output_type": "execute_result"
    }
   ],
   "source": [
    "probabilities_xgb = model.predict_proba(X_test)[:,1]\n",
    "fpr_xgb, tpr_xgb, thresholds_xgb = roc_curve(y_test, probabilities_xgb)\n",
    "\n",
    "fpr_xgb[:5], tpr_xgb[:5], thresholds_xgb[:5]"
   ]
  },
  {
   "cell_type": "code",
   "execution_count": 10,
   "id": "e1d37c16",
   "metadata": {},
   "outputs": [
    {
     "data": {
      "text/plain": [
       "np.float64(0.946016905737705)"
      ]
     },
     "execution_count": 10,
     "metadata": {},
     "output_type": "execute_result"
    }
   ],
   "source": [
    "area2 = auc(fpr_xgb, tpr_xgb)\n",
    "area2"
   ]
  },
  {
   "cell_type": "markdown",
   "id": "079bd99c",
   "metadata": {},
   "source": [
    "### Plot ROC Curve for Logistic Regression and XGBoost Side by Side"
   ]
  },
  {
   "cell_type": "code",
   "execution_count": 11,
   "id": "f6b6e12f",
   "metadata": {},
   "outputs": [
    {
     "data": {
      "image/png": "[encoded data removed]",
      "text/plain": [
       "<Figure size 640x480 with 1 Axes>"
      ]
     },
     "metadata": {},
     "output_type": "display_data"
    }
   ],
   "source": [
    "plt.figure()\n",
    "\n",
    "plt.plot(fpr, tpr, color='darkorange', lw=2, label='ROC - Logistic Regression (area = %0.2f)' % area)\n",
    "plt.plot(fpr_xgb, tpr_xgb, color='green', lw=2, label='ROC - XGBoost (area = %0.2f)' % area2)\n",
    "\n",
    "plt.plot([0, 1], [0, 1], color='navy', lw=2, linestyle='--')\n",
    "plt.xlim([0.0, 1.0])\n",
    "plt.ylim([0.0, 1.05])\n",
    "plt.xlabel('False Positive Rate')\n",
    "plt.ylabel('True Positive Rate')\n",
    "plt.title('Receiver Operating Characteristic')\n",
    "plt.legend(loc=\"lower right\")\n",
    "plt.show()"
   ]
  },
  {
   "cell_type": "markdown",
   "id": "f6f9a7aa",
   "metadata": {},
   "source": [
    "In the chart above, you can see XGBoost is much better model compared to logistic regression"
   ]
  },
  {
   "cell_type": "code",
   "execution_count": 12,
   "id": "49679844",
   "metadata": {},
   "outputs": [
    {
     "data": {
      "text/plain": [
       "(np.float64(0.9140625),\n",
       " np.float32(0.30599597),\n",
       " np.float64(0.10655737704918032))"
      ]
     },
     "execution_count": 12,
     "metadata": {},
     "output_type": "execute_result"
    }
   ],
   "source": [
    "desired_recall = 0.92\n",
    "\n",
    "closest_index = np.argmin(abs(tpr_xgb-desired_recall))\n",
    "tpr_xgb[closest_index], thresholds_xgb[closest_index], fpr_xgb[closest_index]"
   ]
  },
  {
   "cell_type": "markdown",
   "id": "ab5298b6",
   "metadata": {},
   "source": [
    "Threshold associated with 92% recall is 0.3, we will incorporate this in our inference code and deploy the model. Note that with this we will get a false positive rate of around 10% (0.106)"
   ]
  },
  {
   "cell_type": "code",
   "execution_count": null,
   "id": "75a6f83a-0fde-42d2-a626-2dc8fcf0cad6",
   "metadata": {},
   "outputs": [],
   "source": []
  },
  {
   "cell_type": "code",
   "execution_count": null,
   "id": "9eb7ad01-f6b2-4454-b572-c76cbeca4443",
   "metadata": {},
   "outputs": [],
   "source": []
  },
  {
   "cell_type": "code",
   "execution_count": null,
   "id": "4dbbe120-a011-4fc4-8eca-d8a5d70f775e",
   "metadata": {},
   "outputs": [],
   "source": []
  },
  {
   "cell_type": "code",
   "execution_count": null,
   "id": "c22b32ce-acc4-43a9-9b5c-4f80df82ffe7",
   "metadata": {},
   "outputs": [],
   "source": []
  },
  {
   "cell_type": "code",
   "execution_count": null,
   "id": "e043dce4-6c15-44ae-ba33-11651f6aa8bf",
   "metadata": {},
   "outputs": [],
   "source": []
  },
  {
   "cell_type": "code",
   "execution_count": null,
   "id": "1260e37e-c068-4844-b5bd-2ae7dc6854b3",
   "metadata": {},
   "outputs": [],
   "source": []
  },
  {
   "cell_type": "code",
   "execution_count": null,
   "id": "23e5451c-fbf8-4f69-8fa9-cc9241d88ba6",
   "metadata": {},
   "outputs": [],
   "source": []
  },
  {
   "cell_type": "code",
   "execution_count": null,
   "id": "2e618106-3658-4be6-8392-7a4df22752fc",
   "metadata": {},
   "outputs": [],
   "source": []
  },
  {
   "cell_type": "code",
   "execution_count": null,
   "id": "f1c93523-6785-4ca4-bafc-1a43facd32db",
   "metadata": {},
   "outputs": [],
   "source": []
  },
  {
   "cell_type": "code",
   "execution_count": null,
   "id": "fc0765c7-5e8b-4d70-91b0-43a464cd9a1f",
   "metadata": {},
   "outputs": [],
   "source": []
  },
  {
   "cell_type": "code",
   "execution_count": null,
   "id": "bb642a23-5865-414a-a777-050ad51db10f",
   "metadata": {},
   "outputs": [],
   "source": []
  },
  {
   "cell_type": "code",
   "execution_count": null,
   "id": "7b3ee441-e6a3-42f7-905a-c37783e0dd1a",
   "metadata": {},
   "outputs": [],
   "source": []
  },
  {
   "cell_type": "code",
   "execution_count": null,
   "id": "5b1d1f20-5865-4624-9a11-dba95a834f4c",
   "metadata": {},
   "outputs": [],
   "source": []
  }
 ],
 "metadata": {
  "kernelspec": {
   "display_name": "Python 3 (ipykernel)",
   "language": "python",
   "name": "python3"
  },
  "language_info": {
   "codemirror_mode": {
    "name": "ipython",
    "version": 3
   },
   "file_extension": ".py",
   "mimetype": "text/x-python",
   "name": "python",
   "nbconvert_exporter": "python",
   "pygments_lexer": "ipython3",
   "version": "3.13.2"
  }
 },
 "nbformat": 4,
 "nbformat_minor": 5
}
