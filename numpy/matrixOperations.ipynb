{
 "cells": [
  {
   "cell_type": "code",
   "execution_count": 3,
   "id": "faaa05c0-b1ef-450b-bf66-7f5a85806812",
   "metadata": {},
   "outputs": [
    {
     "name": "stdout",
     "output_type": "stream",
     "text": [
      "[[ 64.  96. 192.]\n",
      " [ 40. 216. 192.]\n",
      " [128. 560. 128.]]\n"
     ]
    }
   ],
   "source": [
    "import numpy as np\n",
    "\n",
    "q1=np.array([\n",
    "    [10,20,30],\n",
    "    [30,20,30],\n",
    "    [40,50,20]])\n",
    "\n",
    "q2=np.array([\n",
    "    [30,20,30],\n",
    "    [20,70,30],\n",
    "    [40,50,20]])\n",
    "\n",
    "price=np.array([\n",
    "    [2,3,4],\n",
    "    [1,3,4],\n",
    "    [2,7,4]\n",
    "])\n",
    "\n",
    "total_sales=q2+q1\n",
    "\n",
    "totalRevenue=((total_sales*price))\n",
    "totalDiscount=totalRevenue*0.2\n",
    "netRevenue=totalRevenue-totalDiscount\n",
    "netRevenueSum= np.sum(netRevenue);\n",
    "\n",
    "q1percentSale=(q1/total_sales)*100\n",
    "q2percentSale=(q2/total_sales)*100\n",
    "\n",
    "growthP= (q2-q1)*100/q1\n",
    "\n",
    "print(netRevenue)\n",
    "\n"
   ]
  },
  {
   "cell_type": "code",
   "execution_count": 4,
   "id": "f0712990-ab9e-4aa5-90ff-1cf7130d4286",
   "metadata": {},
   "outputs": [
    {
     "name": "stdout",
     "output_type": "stream",
     "text": [
      "[36000 30500]\n"
     ]
    }
   ],
   "source": [
    "houses=np.array([\n",
    "    [200,3],\n",
    "    [150,4]\n",
    "])\n",
    "\n",
    "weight=np.array(\n",
    "    [150,2000]\n",
    ")\n",
    "\n",
    "estimatedHousePrice= np.dot(houses,weight.T)\n",
    "print(estimatedHousePrice)"
   ]
  },
  {
   "cell_type": "code",
   "execution_count": null,
   "id": "51fc0512-456c-4593-8a22-4ec976f4cdea",
   "metadata": {},
   "outputs": [],
   "source": []
  }
 ],
 "metadata": {
  "kernelspec": {
   "display_name": "Python 3 (ipykernel)",
   "language": "python",
   "name": "python3"
  },
  "language_info": {
   "codemirror_mode": {
    "name": "ipython",
    "version": 3
   },
   "file_extension": ".py",
   "mimetype": "text/x-python",
   "name": "python",
   "nbconvert_exporter": "python",
   "pygments_lexer": "ipython3",
   "version": "3.13.2"
  }
 },
 "nbformat": 4,
 "nbformat_minor": 5
}
